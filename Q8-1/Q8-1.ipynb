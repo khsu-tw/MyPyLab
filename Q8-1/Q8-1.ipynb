{
 "cells": [
  {
   "cell_type": "markdown",
   "metadata": {},
   "source": [
    "## 1. 先把該匯入的函式庫一起匯入"
   ]
  },
  {
   "cell_type": "code",
   "execution_count": 1,
   "metadata": {},
   "outputs": [
    {
     "name": "stderr",
     "output_type": "stream",
     "text": [
      "Using TensorFlow backend.\n"
     ]
    }
   ],
   "source": [
    "import numpy as np\n",
    "from matplotlib import pyplot as plt\n",
    "from keras.models import Sequential, Model\n",
    "from keras.datasets import mnist\n",
    "from keras.layers import Dense, Activation\n",
    "from keras.utils import np_utils\n",
    "from keras.optimizers import SGD, RMSprop, Adagrad, Adadelta, Adamax, Nadam, Adam\n",
    "from keras.layers import concatenate, add, Input"
   ]
  },
  {
   "cell_type": "markdown",
   "metadata": {},
   "source": [
    "## 2. 載入MNIST資料集"
   ]
  },
  {
   "cell_type": "code",
   "execution_count": 2,
   "metadata": {
    "scrolled": true
   },
   "outputs": [
    {
     "name": "stdout",
     "output_type": "stream",
     "text": [
      "There are 60000 training data with size 28 x 28\n",
      "There are 10000 testing  data with size 28 x 28\n"
     ]
    }
   ],
   "source": [
    "(x_train0, y_train0), (x_test0, y_test0) = mnist.load_data()\n",
    "\n",
    "print(\"There are %d training data with size %d x %d\" %x_train0.shape)\n",
    "print(\"There are %d testing  data with size %d x %d\" %x_test0.shape)"
   ]
  },
  {
   "cell_type": "code",
   "execution_count": 3,
   "metadata": {},
   "outputs": [
    {
     "data": {
      "text/plain": [
       "(0.0, 1.0)"
      ]
     },
     "execution_count": 3,
     "metadata": {},
     "output_type": "execute_result"
    }
   ],
   "source": [
    "x_train = x_train0.reshape(60000, 784)\n",
    "x_test = x_test0.reshape(10000, 784)\n",
    "x_train -= x_train.min()\n",
    "x_train = x_train/x_train.max()\n",
    "x_train.min(), x_train.max()"
   ]
  },
  {
   "cell_type": "code",
   "execution_count": 4,
   "metadata": {},
   "outputs": [],
   "source": [
    "y_train = np_utils.to_categorical(y_train0, 10)\n",
    "y_test = np_utils.to_categorical(y_test0, 10)"
   ]
  },
  {
   "attachments": {
    "BD.jpg": {
     "image/jpeg": "[encoded data removed]"
    }
   },
   "cell_type": "markdown",
   "metadata": {},
   "source": [
    "### NN架構圖\n",
    "![BD.jpg](attachment:BD.jpg)"
   ]
  },
  {
   "cell_type": "markdown",
   "metadata": {},
   "source": [
    "## 3. 定義輸入層"
   ]
  },
  {
   "cell_type": "code",
   "execution_count": 5,
   "metadata": {},
   "outputs": [],
   "source": [
    "x = Input(shape=(784,))"
   ]
  },
  {
   "cell_type": "markdown",
   "metadata": {},
   "source": [
    "## 4. 定義函數"
   ]
  },
  {
   "cell_type": "code",
   "execution_count": 6,
   "metadata": {},
   "outputs": [],
   "source": [
    "f1 = Dense(500, activation='sigmoid')\n",
    "f2 = Dense(100, activation='sigmoid')\n",
    "f3 = Dense(100, activation='sigmoid')\n",
    "f4 = Dense(50, activation='sigmoid')\n",
    "f5 = Dense(10, activation='softmax')"
   ]
  },
  {
   "cell_type": "markdown",
   "metadata": {},
   "source": [
    "## 5. 定義隱藏層，並且利用concatenate將h21, h22函數連接"
   ]
  },
  {
   "cell_type": "code",
   "execution_count": 8,
   "metadata": {},
   "outputs": [],
   "source": [
    "h11 = f1(x)\n",
    "h21 = f2(h11)\n",
    "h22 = f3(h11)\n",
    "con1=concatenate([h21,h22])\n",
    "h31 = f4(con1)"
   ]
  },
  {
   "cell_type": "markdown",
   "metadata": {},
   "source": [
    "## 6. 定義輸出層"
   ]
  },
  {
   "cell_type": "code",
   "execution_count": 9,
   "metadata": {},
   "outputs": [],
   "source": [
    "y = f5(h31)"
   ]
  },
  {
   "cell_type": "markdown",
   "metadata": {},
   "source": [
    "## 7. 確認一下NN疊構"
   ]
  },
  {
   "cell_type": "code",
   "execution_count": 10,
   "metadata": {},
   "outputs": [
    {
     "name": "stdout",
     "output_type": "stream",
     "text": [
      "__________________________________________________________________________________________________\n",
      "Layer (type)                    Output Shape         Param #     Connected to                     \n",
      "==================================================================================================\n",
      "input_1 (InputLayer)            (None, 784)          0                                            \n",
      "__________________________________________________________________________________________________\n",
      "dense_1 (Dense)                 (None, 500)          392500      input_1[0][0]                    \n",
      "__________________________________________________________________________________________________\n",
      "dense_2 (Dense)                 (None, 100)          50100       dense_1[1][0]                    \n",
      "__________________________________________________________________________________________________\n",
      "dense_3 (Dense)                 (None, 100)          50100       dense_1[1][0]                    \n",
      "__________________________________________________________________________________________________\n",
      "concatenate_2 (Concatenate)     (None, 200)          0           dense_2[1][0]                    \n",
      "                                                                 dense_3[1][0]                    \n",
      "__________________________________________________________________________________________________\n",
      "dense_4 (Dense)                 (None, 50)           10050       concatenate_2[0][0]              \n",
      "__________________________________________________________________________________________________\n",
      "dense_5 (Dense)                 (None, 10)           510         dense_4[1][0]                    \n",
      "==================================================================================================\n",
      "Total params: 503,260\n",
      "Trainable params: 503,260\n",
      "Non-trainable params: 0\n",
      "__________________________________________________________________________________________________\n"
     ]
    }
   ],
   "source": [
    "model = Model(x,y)\n",
    "model.summary()"
   ]
  },
  {
   "cell_type": "markdown",
   "metadata": {},
   "source": [
    "## 8. 開始預測吧！"
   ]
  },
  {
   "cell_type": "code",
   "execution_count": 11,
   "metadata": {},
   "outputs": [
    {
     "name": "stdout",
     "output_type": "stream",
     "text": [
      "WARNING:tensorflow:From /Users/keyneshsu/anaconda3/lib/python3.7/site-packages/keras/backend/tensorflow_backend.py:2857: calling reduce_sum_v1 (from tensorflow.python.ops.math_ops) with keep_dims is deprecated and will be removed in a future version.\n",
      "Instructions for updating:\n",
      "keep_dims is deprecated, use keepdims instead\n",
      "WARNING:tensorflow:From /Users/keyneshsu/anaconda3/lib/python3.7/site-packages/tensorflow/python/ops/math_ops.py:3066: to_int32 (from tensorflow.python.ops.math_ops) is deprecated and will be removed in a future version.\n",
      "Instructions for updating:\n",
      "Use tf.cast instead.\n",
      "Train on 48000 samples, validate on 12000 samples\n",
      "Epoch 1/20\n",
      " - 2s - loss: 1.1017 - acc: 0.6811 - val_loss: 0.2953 - val_acc: 0.9223\n",
      "Epoch 2/20\n",
      " - 2s - loss: 0.2095 - acc: 0.9430 - val_loss: 0.1512 - val_acc: 0.9583\n",
      "Epoch 3/20\n",
      " - 2s - loss: 0.1179 - acc: 0.9677 - val_loss: 0.1107 - val_acc: 0.9693\n",
      "Epoch 4/20\n",
      " - 2s - loss: 0.0726 - acc: 0.9797 - val_loss: 0.1011 - val_acc: 0.9719\n",
      "Epoch 5/20\n",
      " - 2s - loss: 0.0522 - acc: 0.9856 - val_loss: 0.1044 - val_acc: 0.9697\n",
      "Epoch 6/20\n",
      " - 2s - loss: 0.0385 - acc: 0.9892 - val_loss: 0.0962 - val_acc: 0.9732\n",
      "Epoch 7/20\n",
      " - 2s - loss: 0.0281 - acc: 0.9919 - val_loss: 0.0868 - val_acc: 0.9760\n",
      "Epoch 8/20\n",
      " - 2s - loss: 0.0162 - acc: 0.9962 - val_loss: 0.0885 - val_acc: 0.9755\n",
      "Epoch 9/20\n",
      " - 2s - loss: 0.0128 - acc: 0.9968 - val_loss: 0.0934 - val_acc: 0.9754\n",
      "Epoch 10/20\n",
      " - 2s - loss: 0.0134 - acc: 0.9962 - val_loss: 0.1016 - val_acc: 0.9732\n",
      "Epoch 11/20\n",
      " - 2s - loss: 0.0126 - acc: 0.9967 - val_loss: 0.0930 - val_acc: 0.9771\n",
      "Epoch 12/20\n",
      " - 2s - loss: 0.0096 - acc: 0.9975 - val_loss: 0.0953 - val_acc: 0.9763\n",
      "Epoch 13/20\n",
      " - 2s - loss: 0.0084 - acc: 0.9977 - val_loss: 0.0979 - val_acc: 0.9761\n",
      "Epoch 14/20\n",
      " - 2s - loss: 0.0061 - acc: 0.9984 - val_loss: 0.1001 - val_acc: 0.9763\n",
      "Epoch 15/20\n",
      " - 2s - loss: 0.0031 - acc: 0.9994 - val_loss: 0.0928 - val_acc: 0.9785\n",
      "Epoch 16/20\n",
      " - 2s - loss: 0.0036 - acc: 0.9991 - val_loss: 0.1011 - val_acc: 0.9764\n",
      "Epoch 17/20\n",
      " - 2s - loss: 0.0056 - acc: 0.9984 - val_loss: 0.1123 - val_acc: 0.9744\n",
      "Epoch 18/20\n",
      " - 2s - loss: 0.0082 - acc: 0.9976 - val_loss: 0.1048 - val_acc: 0.9758\n",
      "Epoch 19/20\n",
      " - 2s - loss: 0.0147 - acc: 0.9953 - val_loss: 0.1038 - val_acc: 0.9748\n",
      "Epoch 20/20\n",
      " - 2s - loss: 0.0115 - acc: 0.9961 - val_loss: 0.1113 - val_acc: 0.9742\n",
      "60000/60000 [==============================] - 3s 45us/step\n",
      "\n",
      "\t Accuracy of testing data = 99.2%\n"
     ]
    }
   ],
   "source": [
    "model.compile(optimizer=Adam(lr=0.01), loss='categorical_crossentropy', metrics=['acc'])\n",
    "acc_history = model.fit(x_train, y_train, validation_split=0.2, batch_size=800, epochs=20, verbose=2)\n",
    "\n",
    "score = model.evaluate(x_train, y_train)\n",
    "print()  \n",
    "print(\"\\t Accuracy of testing data = {:2.1f}%\".format(score[1]*100.0))  "
   ]
  },
  {
   "cell_type": "markdown",
   "metadata": {},
   "source": [
    "### 高達99.2%的準確率"
   ]
  },
  {
   "cell_type": "markdown",
   "metadata": {},
   "source": [
    "## 9. 來個圖形表示準確度和Epoch的關係"
   ]
  },
  {
   "cell_type": "code",
   "execution_count": 12,
   "metadata": {},
   "outputs": [
    {
     "data": {
      "image/png": "[encoded data removed]",
      "text/plain": [
       "<Figure size 432x288 with 1 Axes>"
      ]
     },
     "metadata": {
      "needs_background": "light"
     },
     "output_type": "display_data"
    }
   ],
   "source": [
    "plt.plot(acc_history.history[\"acc\"])\n",
    "\n",
    "plt.title(\"Model Training Accuracy\")\n",
    "plt.ylabel(\"Accuracy\")\n",
    "plt.xlabel(\"Epoch\")\n",
    "plt.legend(\"categorical_crossentropy&1HL\", loc=\"best\")\n",
    "plt.show()"
   ]
  }
 ],
 "metadata": {
  "kernelspec": {
   "display_name": "Python 3",
   "language": "python",
   "name": "python3"
  },
  "language_info": {
   "codemirror_mode": {
    "name": "ipython",
    "version": 3
   },
   "file_extension": ".py",
   "mimetype": "text/x-python",
   "name": "python",
   "nbconvert_exporter": "python",
   "pygments_lexer": "ipython3",
   "version": "3.7.2"
  }
 },
 "nbformat": 4,
 "nbformat_minor": 2
}
