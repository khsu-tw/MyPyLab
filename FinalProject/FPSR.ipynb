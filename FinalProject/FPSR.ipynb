{
  "nbformat": 4,
  "nbformat_minor": 0,
  "metadata": {
    "colab": {
      "name": "FPSR.ipynb",
      "version": "0.3.2",
      "provenance": [],
      "collapsed_sections": [],
      "include_colab_link": true
    },
    "kernelspec": {
      "name": "python3",
      "display_name": "Python 3"
    }
  },
  "cells": [
    {
      "cell_type": "markdown",
      "metadata": {
        "id": "view-in-github",
        "colab_type": "text"
      },
      "source": [
        "<a href=\"https://colab.research.google.com/github/khsu-tw/MyPyLab-git/blob/master/FinalProject/FPSR.ipynb\" target=\"_parent\"><img src=\"https://colab.research.google.com/assets/colab-badge.svg\" alt=\"Open In Colab\"/></a>"
      ]
    },
    {
      "cell_type": "markdown",
      "metadata": {
        "id": "O9E4_bnMjM5S",
        "colab_type": "text"
      },
      "source": [
        "## 題目\n",
        "以AAMI EC57標準進行心律異常預測\n",
        "  \n",
        "## 組員\n",
        "徐愷駿(Keynes Hsu)、賴彥霖(Claire Lai)\n",
        "  \n",
        "## 資料集簡介\n",
        "### MIT-BIH\n",
        "MIT-BIH心律失常資料庫包含48個半小時的雙通道動態心電圖記錄摘錄，這些記錄來自1975年至1979年期間BIH心律失常實驗室研究的47名受試者。每條記錄有三個文件:1.注釋文件 2.信號文件 3.頭文件。\n",
        "有三種數據存儲格式：\n",
        "\n",
        "(1)  [.atr]：爲注釋檔。二進制存儲。通過這個文檔，我們可以讀取到相關beat的種類，如normal beat, RBBB beat等。\n",
        "\n",
        "(2)  [.dat]：數據文件，按照二進制存儲，存儲著signal數據。每三個字節存儲兩個數，一個數12bits。\n",
        "\n",
        "(3)  [.hea]：頭文件，存儲方式爲ASCII碼字符。可以使用瀏覽器直接打開，其中包括信號一些基本的常量。\n",
        "\n",
        "Reference: http://www.physionet.org/physiobank/database/html/mitdbdir/mitdbdir.htm\n",
        "\n",
        "### AMMI EC57資料集\n",
        "ANSL／AAMI EC57：2012 是由美國醫療儀器促進協會(Association for the Advancement of Medical Instrumentation，AAMI)制定的一系列標準，包括心率失常的分類、心律失常分類檢測算法的評估標準等等。\n",
        "AAMI規定心電節拍可以分爲五大類： \n",
        "- N(正常或者束支傳導阻滯節拍) \n",
        "- s(室上性異常節拍) \n",
        "- V(心室異常節拍) \n",
        "- F(融合節拍) \n",
        "- Q(未能分類的節拍) \n",
        "以及無法識讀的u類、輔助無法識讀標誌的x類和0類\n",
        "\n",
        "AAMI還規定了心律失常分類檢測算法的評估標準，包括算法準確率的計算方法（混淆矩陣），以及準確率(Acc)、靈敏度(sen)、真陽性率(Ppr)等作爲衡量分類器分類性能的參數。通過混淆矩陣計算各個參數。\n",
        "AAMI標準中指出Q類分類的準確率僅供參考，而u、x、0類不是真正的心電節拍，因此最終衡量分類算法的準確率是N、s、V、F類的心電節拍的Acc、Sen、Ppr。\n",
        "  \n",
        "  資透過Kaggel取得已完成分類標示的MIT-BIH dataset，將MIT-BIH資料集再進行分類後轉換為AAMI EC57標準，最後以AAMI的標準格式以神經網路方式進行心律異常的預測。"
      ]
    },
    {
      "cell_type": "markdown",
      "metadata": {
        "id": "zbuOyOk8oEZq",
        "colab_type": "text"
      },
      "source": [
        "![alt text](https://pic1.xuehuaimg.com/proxy/csdn/https://img-blog.csdn.net/20161203170506480)\n",
        "\n",
        "\n",
        "## 實作方式\n",
        "1.   取得MIT-BIH資料集\n",
        "2.   資料預處理MIT-BIH資料集\n",
        "3.   以CNN做圖形辨識\n",
        "\n",
        "\n",
        "## 專案時程\n",
        "* 5/12 找題目\n",
        "* 5/13 研究相關資料\n",
        "* 5/16 瞭解AAMI EC57與MIT-BIH標準關係\n",
        "* 5/22 Coding、訓練模型、抓蟲\n",
        "* 5/27 驗證及修改\n",
        "* 6/4 撰寫報告\n",
        "* 6/7 報告繳交\n"
      ]
    }
  ]
}