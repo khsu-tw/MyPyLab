{
 "cells": [
  {
   "cell_type": "code",
   "execution_count": 1,
   "metadata": {},
   "outputs": [
    {
     "name": "stderr",
     "output_type": "stream",
     "text": [
      "Using TensorFlow backend.\n"
     ]
    }
   ],
   "source": [
    "import numpy as np\n",
    "from matplotlib import pyplot as plt\n",
    "from keras.models import Sequential\n",
    "from keras.datasets import mnist\n",
    "from keras.layers import Dense\n",
    "from keras.utils import np_utils\n",
    "from keras.optimizers import SGD, RMSprop, Adagrad, Adadelta, Adamax, Nadam, Adam"
   ]
  },
  {
   "cell_type": "markdown",
   "metadata": {},
   "source": [
    "#### 載入MNIST資料集"
   ]
  },
  {
   "cell_type": "code",
   "execution_count": 2,
   "metadata": {},
   "outputs": [],
   "source": [
    "(X_train, y_train), (X_test, y_test) = mnist.load_data()"
   ]
  },
  {
   "cell_type": "markdown",
   "metadata": {},
   "source": [
    "#### 活化函數：ReLu, Softmax, 隱藏層1：256個神經元, 損失函數：mse, 優化器選擇：Adam, 學習率設為0.005"
   ]
  },
  {
   "cell_type": "code",
   "execution_count": 4,
   "metadata": {},
   "outputs": [],
   "source": [
    "nnmodel_mse_1 = Sequential()\n",
    "nnmodel_mse_1.add(Dense(units=200, input_dim=784, kernel_initializer='normal', activation='relu'))\n",
    "nnmodel_mse_1.add(Dense(units=10, kernel_initializer='normal', activation='softmax'))\n",
    "\n",
    "nnmodel_mse_1.compile(loss='mse', optimizer=Adam(lr=0.005), metrics=['accuracy'])"
   ]
  },
  {
   "cell_type": "markdown",
   "metadata": {},
   "source": [
    "#### 將分類值進行One-Hot Encoding數字化"
   ]
  },
  {
   "cell_type": "code",
   "execution_count": 5,
   "metadata": {},
   "outputs": [],
   "source": [
    "y_TrainOneHot = np_utils.to_categorical(y_train)\n",
    "y_TestOneHot = np_utils.to_categorical(y_test)\n",
    "\n",
    "X_train_flat = X_train.reshape(60000, 28*28).astype('float32')  \n",
    "X_test_flat = X_test.reshape(10000, 28*28).astype('float32')  \n",
    "\n",
    "x_Train_normal = X_train_flat/255\n",
    "x_Test_normal = X_test_flat/255"
   ]
  },
  {
   "cell_type": "markdown",
   "metadata": {},
   "source": [
    "#### Epochs設為20次"
   ]
  },
  {
   "cell_type": "code",
   "execution_count": 6,
   "metadata": {},
   "outputs": [
    {
     "name": "stdout",
     "output_type": "stream",
     "text": [
      "WARNING:tensorflow:From /Users/keyneshsu/anaconda3/lib/python3.7/site-packages/tensorflow/python/ops/math_ops.py:3066: to_int32 (from tensorflow.python.ops.math_ops) is deprecated and will be removed in a future version.\n",
      "Instructions for updating:\n",
      "Use tf.cast instead.\n",
      "Train on 48000 samples, validate on 12000 samples\n",
      "Epoch 1/20\n",
      " - 1s - loss: 0.0206 - acc: 0.8627 - val_loss: 0.0099 - val_acc: 0.9356\n",
      "Epoch 2/20\n",
      " - 1s - loss: 0.0090 - acc: 0.9431 - val_loss: 0.0070 - val_acc: 0.9562\n",
      "Epoch 3/20\n",
      " - 1s - loss: 0.0063 - acc: 0.9599 - val_loss: 0.0059 - val_acc: 0.9620\n",
      "Epoch 4/20\n",
      " - 1s - loss: 0.0049 - acc: 0.9700 - val_loss: 0.0052 - val_acc: 0.9675\n",
      "Epoch 5/20\n",
      " - 1s - loss: 0.0040 - acc: 0.9759 - val_loss: 0.0050 - val_acc: 0.9683\n",
      "Epoch 6/20\n",
      " - 1s - loss: 0.0031 - acc: 0.9819 - val_loss: 0.0046 - val_acc: 0.9697\n",
      "Epoch 7/20\n",
      " - 1s - loss: 0.0027 - acc: 0.9844 - val_loss: 0.0043 - val_acc: 0.9710\n",
      "Epoch 8/20\n",
      " - 1s - loss: 0.0021 - acc: 0.9880 - val_loss: 0.0039 - val_acc: 0.9748\n",
      "Epoch 9/20\n",
      " - 1s - loss: 0.0017 - acc: 0.9907 - val_loss: 0.0042 - val_acc: 0.9727\n",
      "Epoch 10/20\n",
      " - 1s - loss: 0.0016 - acc: 0.9912 - val_loss: 0.0039 - val_acc: 0.9747\n",
      "Epoch 11/20\n",
      " - 1s - loss: 0.0014 - acc: 0.9925 - val_loss: 0.0039 - val_acc: 0.9737\n",
      "Epoch 12/20\n",
      " - 1s - loss: 0.0012 - acc: 0.9939 - val_loss: 0.0039 - val_acc: 0.9747\n",
      "Epoch 13/20\n",
      " - 1s - loss: 0.0010 - acc: 0.9949 - val_loss: 0.0040 - val_acc: 0.9729\n",
      "Epoch 14/20\n",
      " - 1s - loss: 9.2258e-04 - acc: 0.9953 - val_loss: 0.0036 - val_acc: 0.9774\n",
      "Epoch 15/20\n",
      " - 1s - loss: 8.0498e-04 - acc: 0.9958 - val_loss: 0.0035 - val_acc: 0.9776\n",
      "Epoch 16/20\n",
      " - 1s - loss: 6.8962e-04 - acc: 0.9966 - val_loss: 0.0037 - val_acc: 0.9767\n",
      "Epoch 17/20\n",
      " - 1s - loss: 6.6229e-04 - acc: 0.9968 - val_loss: 0.0036 - val_acc: 0.9767\n",
      "Epoch 18/20\n",
      " - 1s - loss: 5.8120e-04 - acc: 0.9972 - val_loss: 0.0037 - val_acc: 0.9765\n",
      "Epoch 19/20\n",
      " - 1s - loss: 5.6789e-04 - acc: 0.9973 - val_loss: 0.0037 - val_acc: 0.9767\n",
      "Epoch 20/20\n",
      " - 1s - loss: 6.2563e-04 - acc: 0.9967 - val_loss: 0.0039 - val_acc: 0.9753\n",
      "10000/10000 [==============================] - 0s 25us/step\n",
      "\n",
      "\t Accuracy of testing data = 97.8%\n"
     ]
    }
   ],
   "source": [
    "nnTrain_history_mse_1 = nnmodel_mse_1.fit(x=x_Train_normal, y=y_TrainOneHot, validation_split=0.2, epochs=20, batch_size=800, verbose=2)\n",
    "\n",
    "score_mse_1 = nnmodel_mse_1.evaluate(x_Test_normal, y_TestOneHot)  \n",
    "print()  \n",
    "print(\"\\t Accuracy of testing data = {:2.1f}%\".format(score_mse_1[1]*100.0))  "
   ]
  },
  {
   "cell_type": "markdown",
   "metadata": {},
   "source": [
    "#### =更改損失函數=, 活化函數：ReLu, Softmax, 隱藏層1：256個神經元, 損失函數：categorical_crossentropy, 優化器選擇：Adam, 學習率設為0.005"
   ]
  },
  {
   "cell_type": "code",
   "execution_count": 9,
   "metadata": {},
   "outputs": [
    {
     "name": "stdout",
     "output_type": "stream",
     "text": [
      "Train on 48000 samples, validate on 12000 samples\n",
      "Epoch 1/20\n",
      " - 1s - loss: 0.4583 - acc: 0.8730 - val_loss: 0.2180 - val_acc: 0.9374\n",
      "Epoch 2/20\n",
      " - 1s - loss: 0.1852 - acc: 0.9458 - val_loss: 0.1479 - val_acc: 0.9583\n",
      "Epoch 3/20\n",
      " - 1s - loss: 0.1221 - acc: 0.9644 - val_loss: 0.1230 - val_acc: 0.9642\n",
      "Epoch 4/20\n",
      " - 1s - loss: 0.0906 - acc: 0.9736 - val_loss: 0.1057 - val_acc: 0.9678\n",
      "Epoch 5/20\n",
      " - 1s - loss: 0.0691 - acc: 0.9800 - val_loss: 0.1031 - val_acc: 0.9685\n",
      "Epoch 6/20\n",
      " - 1s - loss: 0.0567 - acc: 0.9835 - val_loss: 0.1026 - val_acc: 0.9691\n",
      "Epoch 7/20\n",
      " - 1s - loss: 0.0481 - acc: 0.9859 - val_loss: 0.0904 - val_acc: 0.9734\n",
      "Epoch 8/20\n",
      " - 1s - loss: 0.0363 - acc: 0.9899 - val_loss: 0.0884 - val_acc: 0.9721\n",
      "Epoch 9/20\n",
      " - 1s - loss: 0.0287 - acc: 0.9923 - val_loss: 0.0871 - val_acc: 0.9750\n",
      "Epoch 10/20\n",
      " - 1s - loss: 0.0231 - acc: 0.9944 - val_loss: 0.0905 - val_acc: 0.9732\n",
      "Epoch 11/20\n",
      " - 1s - loss: 0.0183 - acc: 0.9958 - val_loss: 0.0856 - val_acc: 0.9752\n",
      "Epoch 12/20\n",
      " - 1s - loss: 0.0143 - acc: 0.9970 - val_loss: 0.0856 - val_acc: 0.9762\n",
      "Epoch 13/20\n",
      " - 1s - loss: 0.0120 - acc: 0.9979 - val_loss: 0.0865 - val_acc: 0.9763\n",
      "Epoch 14/20\n",
      " - 1s - loss: 0.0097 - acc: 0.9982 - val_loss: 0.0917 - val_acc: 0.9750\n",
      "Epoch 15/20\n",
      " - 1s - loss: 0.0078 - acc: 0.9990 - val_loss: 0.0896 - val_acc: 0.9763\n",
      "Epoch 16/20\n",
      " - 1s - loss: 0.0064 - acc: 0.9993 - val_loss: 0.0898 - val_acc: 0.9773\n",
      "Epoch 17/20\n",
      " - 1s - loss: 0.0053 - acc: 0.9996 - val_loss: 0.0890 - val_acc: 0.9772\n",
      "Epoch 18/20\n",
      " - 1s - loss: 0.0041 - acc: 0.9998 - val_loss: 0.0906 - val_acc: 0.9772\n",
      "Epoch 19/20\n",
      " - 1s - loss: 0.0035 - acc: 0.9998 - val_loss: 0.0929 - val_acc: 0.9772\n",
      "Epoch 20/20\n",
      " - 1s - loss: 0.0030 - acc: 0.9999 - val_loss: 0.0930 - val_acc: 0.9782\n",
      "10000/10000 [==============================] - 0s 25us/step\n",
      "\n",
      "\t Accuracy of testing data = 98.0%\n"
     ]
    }
   ],
   "source": [
    "nnmodel_cc_1 = Sequential()\n",
    "nnmodel_cc_1.add(Dense(units=200, input_dim=784, kernel_initializer='normal', activation='relu'))\n",
    "nnmodel_cc_1.add(Dense(units=10, kernel_initializer='normal', activation='softmax'))\n",
    "nnmodel_cc_1.compile(loss='categorical_crossentropy', optimizer=Adam(lr=0.005), metrics=['accuracy'])\n",
    "nnTrain_history_cc_1 = nnmodel_cc_1.fit(x=x_Train_normal, y=y_TrainOneHot, validation_split=0.2, epochs=20, batch_size=800, verbose=2)\n",
    "\n",
    "score_cc_1 = nnmodel_cc_1.evaluate(x_Test_normal, y_TestOneHot)  \n",
    "print()  \n",
    "print(\"\\t Accuracy of testing data = {:2.1f}%\".format(score_cc_1[1]*100.0))  "
   ]
  },
  {
   "cell_type": "markdown",
   "metadata": {},
   "source": [
    "#### ==增加隱藏層== 活化函數：ReLu, Softmax, 隱藏層1：256個神經元, 隱藏層2: 100個神經元, 損失函數：mse, 優化器選擇：Adam, 學習率設為0.005"
   ]
  },
  {
   "cell_type": "code",
   "execution_count": 10,
   "metadata": {},
   "outputs": [
    {
     "name": "stdout",
     "output_type": "stream",
     "text": [
      "Train on 48000 samples, validate on 12000 samples\n",
      "Epoch 1/20\n",
      " - 1s - loss: 0.0228 - acc: 0.8460 - val_loss: 0.0106 - val_acc: 0.9302\n",
      "Epoch 2/20\n",
      " - 1s - loss: 0.0085 - acc: 0.9459 - val_loss: 0.0067 - val_acc: 0.9573\n",
      "Epoch 3/20\n",
      " - 1s - loss: 0.0057 - acc: 0.9637 - val_loss: 0.0058 - val_acc: 0.9622\n",
      "Epoch 4/20\n",
      " - 1s - loss: 0.0044 - acc: 0.9731 - val_loss: 0.0050 - val_acc: 0.9681\n",
      "Epoch 5/20\n",
      " - 1s - loss: 0.0036 - acc: 0.9776 - val_loss: 0.0049 - val_acc: 0.9687\n",
      "Epoch 6/20\n",
      " - 1s - loss: 0.0030 - acc: 0.9816 - val_loss: 0.0047 - val_acc: 0.9696\n",
      "Epoch 7/20\n",
      " - 1s - loss: 0.0025 - acc: 0.9850 - val_loss: 0.0043 - val_acc: 0.9721\n",
      "Epoch 8/20\n",
      " - 1s - loss: 0.0020 - acc: 0.9879 - val_loss: 0.0042 - val_acc: 0.9728\n",
      "Epoch 9/20\n",
      " - 1s - loss: 0.0017 - acc: 0.9901 - val_loss: 0.0040 - val_acc: 0.9732\n",
      "Epoch 10/20\n",
      " - 1s - loss: 0.0014 - acc: 0.9915 - val_loss: 0.0039 - val_acc: 0.9742\n",
      "Epoch 11/20\n",
      " - 1s - loss: 0.0015 - acc: 0.9915 - val_loss: 0.0042 - val_acc: 0.9732\n",
      "Epoch 12/20\n",
      " - 1s - loss: 0.0014 - acc: 0.9913 - val_loss: 0.0041 - val_acc: 0.9737\n",
      "Epoch 13/20\n",
      " - 1s - loss: 0.0012 - acc: 0.9930 - val_loss: 0.0039 - val_acc: 0.9767\n",
      "Epoch 14/20\n",
      " - 1s - loss: 0.0011 - acc: 0.9937 - val_loss: 0.0043 - val_acc: 0.9723\n",
      "Epoch 15/20\n",
      " - 1s - loss: 0.0011 - acc: 0.9936 - val_loss: 0.0040 - val_acc: 0.9756\n",
      "Epoch 16/20\n",
      " - 1s - loss: 0.0011 - acc: 0.9931 - val_loss: 0.0039 - val_acc: 0.9758\n",
      "Epoch 17/20\n",
      " - 1s - loss: 9.5261e-04 - acc: 0.9944 - val_loss: 0.0042 - val_acc: 0.9749\n",
      "Epoch 18/20\n",
      " - 1s - loss: 8.5601e-04 - acc: 0.9949 - val_loss: 0.0042 - val_acc: 0.9740\n",
      "Epoch 19/20\n",
      " - 1s - loss: 9.3123e-04 - acc: 0.9945 - val_loss: 0.0039 - val_acc: 0.9760\n",
      "Epoch 20/20\n",
      " - 1s - loss: 0.0010 - acc: 0.9936 - val_loss: 0.0051 - val_acc: 0.9698\n",
      "10000/10000 [==============================] - 0s 27us/step\n",
      "\n",
      "\t Accuracy of testing data = 97.1%\n"
     ]
    }
   ],
   "source": [
    "nnmodel_mse_2 = Sequential()\n",
    "nnmodel_mse_2.add(Dense(units=200, input_dim=784, kernel_initializer='normal', activation='relu'))\n",
    "nnmodel_mse_2.add(Dense(units=100, input_dim=784, kernel_initializer='normal', activation='relu'))\n",
    "nnmodel_mse_2.add(Dense(units=10, kernel_initializer='normal', activation='softmax'))\n",
    "nnmodel_mse_2.compile(loss='mse', optimizer=Adam(lr=0.005), metrics=['accuracy'])\n",
    "nnTrain_history_mse_2 = nnmodel_mse_2.fit(x=x_Train_normal, y=y_TrainOneHot, validation_split=0.2, epochs=20, batch_size=800, verbose=2)\n",
    "\n",
    "score_mse_2 = nnmodel_mse_2.evaluate(x_Test_normal, y_TestOneHot)  \n",
    "print()  \n",
    "print(\"\\t Accuracy of testing data = {:2.1f}%\".format(score_mse_2[1]*100.0))  "
   ]
  },
  {
   "cell_type": "markdown",
   "metadata": {},
   "source": [
    "#### ==增加隱藏層== 活化函數：ReLu, Softmax, 隱藏層1：256個神經元, 隱藏層2: 100個神經元, 損失函數：categorical_crossentropy, 優化器選擇：Adam, 學習率設為0.005"
   ]
  },
  {
   "cell_type": "code",
   "execution_count": 11,
   "metadata": {},
   "outputs": [
    {
     "name": "stdout",
     "output_type": "stream",
     "text": [
      "Train on 48000 samples, validate on 12000 samples\n",
      "Epoch 1/20\n",
      " - 1s - loss: 0.4924 - acc: 0.8595 - val_loss: 0.1967 - val_acc: 0.9437\n",
      "Epoch 2/20\n",
      " - 1s - loss: 0.1618 - acc: 0.9526 - val_loss: 0.1343 - val_acc: 0.9588\n",
      "Epoch 3/20\n",
      " - 1s - loss: 0.1064 - acc: 0.9683 - val_loss: 0.1064 - val_acc: 0.9681\n",
      "Epoch 4/20\n",
      " - 1s - loss: 0.0765 - acc: 0.9768 - val_loss: 0.0958 - val_acc: 0.9701\n",
      "Epoch 5/20\n",
      " - 1s - loss: 0.0582 - acc: 0.9823 - val_loss: 0.1003 - val_acc: 0.9699\n",
      "Epoch 6/20\n",
      " - 1s - loss: 0.0458 - acc: 0.9856 - val_loss: 0.0924 - val_acc: 0.9743\n",
      "Epoch 7/20\n",
      " - 1s - loss: 0.0360 - acc: 0.9887 - val_loss: 0.0958 - val_acc: 0.9733\n",
      "Epoch 8/20\n",
      " - 1s - loss: 0.0251 - acc: 0.9924 - val_loss: 0.0989 - val_acc: 0.9728\n",
      "Epoch 9/20\n",
      " - 1s - loss: 0.0217 - acc: 0.9932 - val_loss: 0.0928 - val_acc: 0.9757\n",
      "Epoch 10/20\n",
      " - 1s - loss: 0.0165 - acc: 0.9951 - val_loss: 0.0964 - val_acc: 0.9752\n",
      "Epoch 11/20\n",
      " - 1s - loss: 0.0119 - acc: 0.9965 - val_loss: 0.1006 - val_acc: 0.9750\n",
      "Epoch 12/20\n",
      " - 1s - loss: 0.0093 - acc: 0.9970 - val_loss: 0.1043 - val_acc: 0.9756\n",
      "Epoch 13/20\n",
      " - 1s - loss: 0.0124 - acc: 0.9959 - val_loss: 0.1008 - val_acc: 0.9763\n",
      "Epoch 14/20\n",
      " - 1s - loss: 0.0110 - acc: 0.9966 - val_loss: 0.1183 - val_acc: 0.9745\n",
      "Epoch 15/20\n",
      " - 1s - loss: 0.0126 - acc: 0.9958 - val_loss: 0.1120 - val_acc: 0.9754\n",
      "Epoch 16/20\n",
      " - 1s - loss: 0.0107 - acc: 0.9964 - val_loss: 0.1158 - val_acc: 0.9736\n",
      "Epoch 17/20\n",
      " - 1s - loss: 0.0092 - acc: 0.9969 - val_loss: 0.1141 - val_acc: 0.9765\n",
      "Epoch 18/20\n",
      " - 1s - loss: 0.0129 - acc: 0.9954 - val_loss: 0.1312 - val_acc: 0.9736\n",
      "Epoch 19/20\n",
      " - 1s - loss: 0.0126 - acc: 0.9957 - val_loss: 0.1391 - val_acc: 0.9732\n",
      "Epoch 20/20\n",
      " - 1s - loss: 0.0091 - acc: 0.9969 - val_loss: 0.1192 - val_acc: 0.9779\n",
      "10000/10000 [==============================] - 0s 47us/step\n",
      "\n",
      "\t Accuracy of testing data = 97.9%\n"
     ]
    }
   ],
   "source": [
    "nnmodel_cc_2 = Sequential()\n",
    "nnmodel_cc_2.add(Dense(units=200, input_dim=784, kernel_initializer='normal', activation='relu'))\n",
    "nnmodel_cc_2.add(Dense(units=100, input_dim=784, kernel_initializer='normal', activation='relu'))\n",
    "nnmodel_cc_2.add(Dense(units=10, kernel_initializer='normal', activation='softmax'))\n",
    "nnmodel_cc_2.compile(loss='categorical_crossentropy', optimizer=Adam(lr=0.005), metrics=['accuracy'])\n",
    "nnTrain_history_cc_2 = nnmodel_cc_2.fit(x=x_Train_normal, y=y_TrainOneHot, validation_split=0.2, epochs=20, batch_size=800, verbose=2)\n",
    "\n",
    "score_cc_2 = nnmodel_cc_2.evaluate(x_Test_normal, y_TestOneHot)  \n",
    "print()  \n",
    "print(\"\\t Accuracy of testing data = {:2.1f}%\".format(score_cc_2[1]*100.0))  "
   ]
  },
  {
   "cell_type": "code",
   "execution_count": 12,
   "metadata": {},
   "outputs": [
    {
     "name": "stdout",
     "output_type": "stream",
     "text": [
      "Train on 48000 samples, validate on 12000 samples\n",
      "Epoch 1/20\n",
      " - 1s - loss: 0.0829 - acc: 0.4062 - val_loss: 0.0712 - val_acc: 0.5868\n",
      "Epoch 2/20\n",
      " - 1s - loss: 0.0578 - acc: 0.6489 - val_loss: 0.0449 - val_acc: 0.7359\n",
      "Epoch 3/20\n",
      " - 1s - loss: 0.0381 - acc: 0.7983 - val_loss: 0.0298 - val_acc: 0.8516\n",
      "Epoch 4/20\n",
      " - 1s - loss: 0.0279 - acc: 0.8509 - val_loss: 0.0232 - val_acc: 0.8748\n",
      "Epoch 5/20\n",
      " - 1s - loss: 0.0233 - acc: 0.8679 - val_loss: 0.0200 - val_acc: 0.8861\n",
      "Epoch 6/20\n",
      " - 1s - loss: 0.0207 - acc: 0.8786 - val_loss: 0.0182 - val_acc: 0.8938\n",
      "Epoch 7/20\n",
      " - 1s - loss: 0.0191 - acc: 0.8859 - val_loss: 0.0170 - val_acc: 0.8993\n",
      "Epoch 8/20\n",
      " - 1s - loss: 0.0179 - acc: 0.8913 - val_loss: 0.0160 - val_acc: 0.9033\n",
      "Epoch 9/20\n",
      " - 1s - loss: 0.0170 - acc: 0.8963 - val_loss: 0.0153 - val_acc: 0.9067\n",
      "Epoch 10/20\n",
      " - 1s - loss: 0.0163 - acc: 0.9000 - val_loss: 0.0148 - val_acc: 0.9087\n",
      "Epoch 11/20\n",
      " - 1s - loss: 0.0157 - acc: 0.9033 - val_loss: 0.0143 - val_acc: 0.9108\n",
      "Epoch 12/20\n",
      " - 1s - loss: 0.0152 - acc: 0.9052 - val_loss: 0.0139 - val_acc: 0.9129\n",
      "Epoch 13/20\n",
      " - 1s - loss: 0.0148 - acc: 0.9076 - val_loss: 0.0136 - val_acc: 0.9137\n",
      "Epoch 14/20\n",
      " - 1s - loss: 0.0144 - acc: 0.9094 - val_loss: 0.0132 - val_acc: 0.9157\n",
      "Epoch 15/20\n",
      " - 1s - loss: 0.0141 - acc: 0.9114 - val_loss: 0.0130 - val_acc: 0.9170\n",
      "Epoch 16/20\n",
      " - 1s - loss: 0.0138 - acc: 0.9134 - val_loss: 0.0127 - val_acc: 0.9185\n",
      "Epoch 17/20\n",
      " - 1s - loss: 0.0135 - acc: 0.9153 - val_loss: 0.0125 - val_acc: 0.9195\n",
      "Epoch 18/20\n",
      " - 1s - loss: 0.0132 - acc: 0.9171 - val_loss: 0.0123 - val_acc: 0.9207\n",
      "Epoch 19/20\n",
      " - 1s - loss: 0.0130 - acc: 0.9186 - val_loss: 0.0121 - val_acc: 0.9205\n",
      "Epoch 20/20\n",
      " - 1s - loss: 0.0127 - acc: 0.9200 - val_loss: 0.0119 - val_acc: 0.9232\n",
      "10000/10000 [==============================] - 0s 27us/step\n",
      "\n",
      "\t Accuracy of testing data = 92.4%\n"
     ]
    }
   ],
   "source": [
    "nnmodel_SGD_1 = Sequential()\n",
    "nnmodel_SGD_1.add(Dense(units=200, input_dim=784, kernel_initializer='normal', activation='relu'))\n",
    "#nnmodel_SGD_1.add(Dense(units=100, input_dim=784, kernel_initializer='normal', activation='relu'))\n",
    "nnmodel_SGD_1.add(Dense(units=10, kernel_initializer='normal', activation='softmax'))\n",
    "nnmodel_SGD_1.compile(loss='mse', optimizer=SGD(lr=1), metrics=['accuracy'])\n",
    "nnTrain_history_SGD_1 = nnmodel_SGD_1.fit(x=x_Train_normal, y=y_TrainOneHot, validation_split=0.2, epochs=20, batch_size=800, verbose=2)\n",
    "\n",
    "score_SGD_1 = nnmodel_SGD_1.evaluate(x_Test_normal, y_TestOneHot)  \n",
    "print()  \n",
    "print(\"\\t Accuracy of testing data = {:2.1f}%\".format(score_SGD_1[1]*100.0))  "
   ]
  },
  {
   "cell_type": "code",
   "execution_count": 13,
   "metadata": {},
   "outputs": [
    {
     "name": "stdout",
     "output_type": "stream",
     "text": [
      "Train on 48000 samples, validate on 12000 samples\n",
      "Epoch 1/20\n",
      " - 1s - loss: 0.0892 - acc: 0.2639 - val_loss: 0.0883 - val_acc: 0.3619\n",
      "Epoch 2/20\n",
      " - 1s - loss: 0.0865 - acc: 0.4415 - val_loss: 0.0838 - val_acc: 0.5028\n",
      "Epoch 3/20\n",
      " - 1s - loss: 0.0763 - acc: 0.5055 - val_loss: 0.0652 - val_acc: 0.5790\n",
      "Epoch 4/20\n",
      " - 1s - loss: 0.0535 - acc: 0.6872 - val_loss: 0.0409 - val_acc: 0.7715\n",
      "Epoch 5/20\n",
      " - 1s - loss: 0.0348 - acc: 0.8013 - val_loss: 0.0270 - val_acc: 0.8499\n",
      "Epoch 6/20\n",
      " - 1s - loss: 0.0255 - acc: 0.8527 - val_loss: 0.0213 - val_acc: 0.8737\n",
      "Epoch 7/20\n",
      " - 1s - loss: 0.0212 - acc: 0.8739 - val_loss: 0.0183 - val_acc: 0.8895\n",
      "Epoch 8/20\n",
      " - 1s - loss: 0.0188 - acc: 0.8852 - val_loss: 0.0167 - val_acc: 0.8957\n",
      "Epoch 9/20\n",
      " - 1s - loss: 0.0173 - acc: 0.8921 - val_loss: 0.0156 - val_acc: 0.9004\n",
      "Epoch 10/20\n",
      " - 1s - loss: 0.0163 - acc: 0.8979 - val_loss: 0.0149 - val_acc: 0.9054\n",
      "Epoch 11/20\n",
      " - 1s - loss: 0.0156 - acc: 0.9015 - val_loss: 0.0142 - val_acc: 0.9088\n",
      "Epoch 12/20\n",
      " - 1s - loss: 0.0149 - acc: 0.9048 - val_loss: 0.0138 - val_acc: 0.9107\n",
      "Epoch 13/20\n",
      " - 1s - loss: 0.0144 - acc: 0.9091 - val_loss: 0.0134 - val_acc: 0.9129\n",
      "Epoch 14/20\n",
      " - 1s - loss: 0.0140 - acc: 0.9113 - val_loss: 0.0130 - val_acc: 0.9141\n",
      "Epoch 15/20\n",
      " - 1s - loss: 0.0136 - acc: 0.9136 - val_loss: 0.0128 - val_acc: 0.9184\n",
      "Epoch 16/20\n",
      " - 1s - loss: 0.0132 - acc: 0.9151 - val_loss: 0.0124 - val_acc: 0.9194\n",
      "Epoch 17/20\n",
      " - 1s - loss: 0.0129 - acc: 0.9184 - val_loss: 0.0122 - val_acc: 0.9210\n",
      "Epoch 18/20\n",
      " - 1s - loss: 0.0126 - acc: 0.9200 - val_loss: 0.0120 - val_acc: 0.9222\n",
      "Epoch 19/20\n",
      " - 1s - loss: 0.0124 - acc: 0.9216 - val_loss: 0.0117 - val_acc: 0.9244\n",
      "Epoch 20/20\n",
      " - 1s - loss: 0.0121 - acc: 0.9236 - val_loss: 0.0115 - val_acc: 0.9252\n",
      "10000/10000 [==============================] - 0s 29us/step\n",
      "\n",
      "\t Accuracy of testing data = 92.7%\n"
     ]
    }
   ],
   "source": [
    "nnmodel_SGD_2 = Sequential()\n",
    "nnmodel_SGD_2.add(Dense(units=200, input_dim=784, kernel_initializer='normal', activation='relu'))\n",
    "nnmodel_SGD_2.add(Dense(units=100, input_dim=784, kernel_initializer='normal', activation='relu'))\n",
    "nnmodel_SGD_2.add(Dense(units=10, kernel_initializer='normal', activation='softmax'))\n",
    "nnmodel_SGD_2.compile(loss='mse', optimizer=SGD(lr=1), metrics=['accuracy'])\n",
    "nnTrain_history_SGD_2 = nnmodel_SGD_2.fit(x=x_Train_normal, y=y_TrainOneHot, validation_split=0.2, epochs=20, batch_size=800, verbose=2)\n",
    "\n",
    "score_SGD_2 = nnmodel_SGD_2.evaluate(x_Test_normal, y_TestOneHot)  \n",
    "print()  \n",
    "print(\"\\t Accuracy of testing data = {:2.1f}%\".format(score_SGD_2[1]*100.0))  "
   ]
  },
  {
   "cell_type": "code",
   "execution_count": 14,
   "metadata": {
    "scrolled": false
   },
   "outputs": [
    {
     "data": {
      "image/png": "[encoded data removed]",
      "text/plain": [
       "<Figure size 432x288 with 1 Axes>"
      ]
     },
     "metadata": {
      "needs_background": "light"
     },
     "output_type": "display_data"
    }
   ],
   "source": [
    "plt.plot(nnTrain_history_mse_1.history[\"acc\"])\n",
    "plt.plot(nnTrain_history_mse_2.history[\"acc\"])\n",
    "plt.plot(nnTrain_history_cc_1.history[\"acc\"])\n",
    "plt.plot(nnTrain_history_cc_2.history[\"acc\"])\n",
    "plt.plot(nnTrain_history_SGD_1.history[\"acc\"])\n",
    "plt.plot(nnTrain_history_SGD_2.history[\"acc\"])\n",
    "\n",
    "plt.title(\"Model Training Accuracy\")\n",
    "plt.ylabel(\"Accuracy\")\n",
    "plt.xlabel(\"Epoch\")\n",
    "plt.legend([\"mse&1HL\",\"mse&2HL\", \"categorical_crossentropy&1HL\",\"categorical_crossentropy&2HL\",\"SGD&1HL\",\"SGD&2HL\"], loc=\"best\")\n",
    "plt.show()"
   ]
  },
  {
   "cell_type": "markdown",
   "metadata": {},
   "source": [
    "#### 1. 實驗組合了比較不同的損失函數(loss function)：mse、categorical_crossentropy、優化器(optimizer)：Adam、SGD及隱藏層數。\n",
    "#### 2. 結果顯示以不同的loss funtion加上增加隱藏層數，對預測準確度的提升不一定有幫助，而優化器從Adam改為SGD後準確率就有很明顯的下降\n",
    "#### 3. 就SGD本身，多增加一層隱藏層後及調整學習率後，準確率就在相同的epoch次數內明顯的提升。\n",
    "#### 4. 所以結論還是要多嘗試不同的loss function、optimazier、learn rate，才能找出最佳的組合。"
   ]
  },
  {
   "cell_type": "code",
   "execution_count": null,
   "metadata": {},
   "outputs": [],
   "source": []
  }
 ],
 "metadata": {
  "kernelspec": {
   "display_name": "Python 3",
   "language": "python",
   "name": "python3"
  },
  "language_info": {
   "codemirror_mode": {
    "name": "ipython",
    "version": 3
   },
   "file_extension": ".py",
   "mimetype": "text/x-python",
   "name": "python",
   "nbconvert_exporter": "python",
   "pygments_lexer": "ipython3",
   "version": "3.7.2"
  }
 },
 "nbformat": 4,
 "nbformat_minor": 2
}
