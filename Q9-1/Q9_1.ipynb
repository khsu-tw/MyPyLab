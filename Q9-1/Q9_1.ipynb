{
  "nbformat": 4,
  "nbformat_minor": 0,
  "metadata": {
    "colab": {
      "name": "Q9-1a.ipynb",
      "version": "0.3.2",
      "provenance": [],
      "collapsed_sections": [],
      "include_colab_link": true
    },
    "kernelspec": {
      "name": "python3",
      "display_name": "Python 3"
    },
    "accelerator": "GPU"
  },
  "cells": [
    {
      "cell_type": "markdown",
      "metadata": {
        "id": "view-in-github",
        "colab_type": "text"
      },
      "source": [
        "<a href=\"https://colab.research.google.com/github/khsu-tw/MyPyLab-git/blob/master/Q9-1/Q9_1.ipynb\" target=\"_parent\"><img src=\"https://colab.research.google.com/assets/colab-badge.svg\" alt=\"Open In Colab\"/></a>"
      ]
    },
    {
      "cell_type": "code",
      "metadata": {
        "id": "HlGv4OrxirRy",
        "colab_type": "code",
        "outputId": "5c01a362-d9f2-4093-fa28-e3f02fe72967",
        "colab": {
          "base_uri": "https://localhost:8080/",
          "height": 34
        }
      },
      "source": [
        "from keras.models import Sequential\n",
        "from keras.layers import Dense,Dropout,Flatten,Conv2D,MaxPooling2D\n",
        "from keras.datasets import mnist\n",
        "from keras.utils import np_utils\n",
        "from keras.optimizers import SGD, RMSprop, Adagrad, Adadelta, Adamax, Nadam, Adam\n",
        "import numpy as np\n",
        "from matplotlib import pyplot as plt"
      ],
      "execution_count": 1,
      "outputs": [
        {
          "output_type": "stream",
          "text": [
            "Using TensorFlow backend.\n"
          ],
          "name": "stderr"
        }
      ]
    },
    {
      "cell_type": "code",
      "metadata": {
        "id": "vOASccc6iuf6",
        "colab_type": "code",
        "colab": {
          "base_uri": "https://localhost:8080/",
          "height": 51
        },
        "outputId": "e36243c5-d158-4b0a-93e0-47e782cb2bd0"
      },
      "source": [
        "np.random.seed(20)\n",
        "  \n",
        "(X_Train, y_Train), (X_Test, y_Test) = mnist.load_data()\n",
        "  \n",
        "\n",
        "X_Train4K = X_Train.reshape(X_Train.shape[0], 28, 28, 1).astype('float32')\n",
        "X_Test4K = X_Test.reshape(X_Test.shape[0], 28, 28, 1).astype('float32')"
      ],
      "execution_count": 2,
      "outputs": [
        {
          "output_type": "stream",
          "text": [
            "Downloading data from https://s3.amazonaws.com/img-datasets/mnist.npz\n",
            "11493376/11490434 [==============================] - 1s 0us/step\n"
          ],
          "name": "stdout"
        }
      ]
    },
    {
      "cell_type": "code",
      "metadata": {
        "id": "q_pzQn_Pi-BO",
        "colab_type": "code",
        "colab": {}
      },
      "source": [
        "X_Train4K_norm = X_Train4K / 255\n",
        "X_Test4K_norm = X_Test4K /255\n",
        "  \n",
        "y_TrainOneHot = np_utils.to_categorical(y_Train)\n",
        "y_TestOneHot = np_utils.to_categorical(y_Test)"
      ],
      "execution_count": 0,
      "outputs": []
    },
    {
      "cell_type": "code",
      "metadata": {
        "id": "s3Bbx1o-i_aj",
        "colab_type": "code",
        "outputId": "1b89ff42-8feb-42e6-e0b2-86bb8a74f39c",
        "colab": {
          "base_uri": "https://localhost:8080/",
          "height": 93
        }
      },
      "source": [
        "model = Sequential()\n",
        "\n",
        "#CNN layer 1 & Max Pool layer 1\n",
        "model.add(Conv2D(filters=16, kernel_size=(5,5), padding='same', input_shape=(28,28,1), activation='relu'))\n",
        "model.add(MaxPooling2D(pool_size=(3,3)))\n",
        "  \n",
        "#CNN layer 2 & Max Pool layer 2\n",
        "model.add(Conv2D(filters=36, kernel_size=(5,5), padding='same', input_shape=(28,28,1), activation='relu'))\n",
        "model.add(MaxPooling2D(pool_size=(3,3)))\n",
        "\n",
        "#Dropout layer\n",
        "model.add(Dropout(1))\n",
        "\n",
        "\n",
        "model.add(Flatten())\n",
        "\n",
        "#FC layer\n",
        "model.add(Dense(10, activation='softmax'))"
      ],
      "execution_count": 4,
      "outputs": [
        {
          "output_type": "stream",
          "text": [
            "WARNING:tensorflow:From /usr/local/lib/python3.6/dist-packages/tensorflow/python/framework/op_def_library.py:263: colocate_with (from tensorflow.python.framework.ops) is deprecated and will be removed in a future version.\n",
            "Instructions for updating:\n",
            "Colocations handled automatically by placer.\n"
          ],
          "name": "stdout"
        }
      ]
    },
    {
      "cell_type": "code",
      "metadata": {
        "id": "ElRRUYitjNTm",
        "colab_type": "code",
        "outputId": "94c0b8b3-6537-4ac4-e64a-57db64e5d47a",
        "colab": {
          "base_uri": "https://localhost:8080/",
          "height": 391
        }
      },
      "source": [
        "model.summary()\n",
        "print(\"\")"
      ],
      "execution_count": 5,
      "outputs": [
        {
          "output_type": "stream",
          "text": [
            "_________________________________________________________________\n",
            "Layer (type)                 Output Shape              Param #   \n",
            "=================================================================\n",
            "conv2d_1 (Conv2D)            (None, 28, 28, 16)        416       \n",
            "_________________________________________________________________\n",
            "max_pooling2d_1 (MaxPooling2 (None, 9, 9, 16)          0         \n",
            "_________________________________________________________________\n",
            "conv2d_2 (Conv2D)            (None, 9, 9, 36)          14436     \n",
            "_________________________________________________________________\n",
            "max_pooling2d_2 (MaxPooling2 (None, 3, 3, 36)          0         \n",
            "_________________________________________________________________\n",
            "dropout_1 (Dropout)          (None, 3, 3, 36)          0         \n",
            "_________________________________________________________________\n",
            "flatten_1 (Flatten)          (None, 324)               0         \n",
            "_________________________________________________________________\n",
            "dense_1 (Dense)              (None, 10)                3250      \n",
            "=================================================================\n",
            "Total params: 18,102\n",
            "Trainable params: 18,102\n",
            "Non-trainable params: 0\n",
            "_________________________________________________________________\n",
            "\n"
          ],
          "name": "stdout"
        }
      ]
    },
    {
      "cell_type": "code",
      "metadata": {
        "id": "_TiZxgQ0jOwD",
        "colab_type": "code",
        "outputId": "cc89cfae-72f6-456e-d253-57b082ea3533",
        "colab": {
          "base_uri": "https://localhost:8080/",
          "height": 450
        }
      },
      "source": [
        "#model.compile(loss='categorical_crossentropy', optimizer=Adam(lr=0.005), metrics=['accuracy'])\n",
        "model.compile(loss='mse', optimizer=Adam(lr=0.005), metrics=['accuracy'])\n",
        "\n",
        "train_fit_history = model.fit(x=X_Train4K_norm, y=y_TrainOneHot, validation_split=0.2, epochs=10, batch_size=300, verbose=2)"
      ],
      "execution_count": 6,
      "outputs": [
        {
          "output_type": "stream",
          "text": [
            "WARNING:tensorflow:From /usr/local/lib/python3.6/dist-packages/tensorflow/python/ops/math_ops.py:3066: to_int32 (from tensorflow.python.ops.math_ops) is deprecated and will be removed in a future version.\n",
            "Instructions for updating:\n",
            "Use tf.cast instead.\n",
            "Train on 48000 samples, validate on 12000 samples\n",
            "Epoch 1/10\n",
            " - 6s - loss: 0.0136 - acc: 0.9054 - val_loss: 0.0037 - val_acc: 0.9768\n",
            "Epoch 2/10\n",
            " - 1s - loss: 0.0035 - acc: 0.9784 - val_loss: 0.0032 - val_acc: 0.9788\n",
            "Epoch 3/10\n",
            " - 1s - loss: 0.0025 - acc: 0.9840 - val_loss: 0.0022 - val_acc: 0.9861\n",
            "Epoch 4/10\n",
            " - 1s - loss: 0.0019 - acc: 0.9878 - val_loss: 0.0022 - val_acc: 0.9858\n",
            "Epoch 5/10\n",
            " - 1s - loss: 0.0017 - acc: 0.9892 - val_loss: 0.0023 - val_acc: 0.9845\n",
            "Epoch 6/10\n",
            " - 1s - loss: 0.0014 - acc: 0.9910 - val_loss: 0.0021 - val_acc: 0.9867\n",
            "Epoch 7/10\n",
            " - 1s - loss: 0.0013 - acc: 0.9920 - val_loss: 0.0023 - val_acc: 0.9851\n",
            "Epoch 8/10\n",
            " - 1s - loss: 0.0012 - acc: 0.9924 - val_loss: 0.0019 - val_acc: 0.9878\n",
            "Epoch 9/10\n",
            " - 1s - loss: 0.0011 - acc: 0.9927 - val_loss: 0.0023 - val_acc: 0.9852\n",
            "Epoch 10/10\n",
            " - 1s - loss: 9.6583e-04 - acc: 0.9938 - val_loss: 0.0020 - val_acc: 0.9873\n"
          ],
          "name": "stdout"
        }
      ]
    },
    {
      "cell_type": "code",
      "metadata": {
        "id": "dvSFQRr818fb",
        "colab_type": "code",
        "outputId": "ddaa8b5e-0af7-4191-88b8-e2d549402ca7",
        "colab": {
          "base_uri": "https://localhost:8080/",
          "height": 68
        }
      },
      "source": [
        "score = model.evaluate(X_Train4K, y_TrainOneHot)\n",
        "print()\n",
        "print(\"\\t Accuracy of testing data = {:2.1f}%\".format(score[1]*100.0))"
      ],
      "execution_count": 7,
      "outputs": [
        {
          "output_type": "stream",
          "text": [
            "60000/60000 [==============================] - 3s 44us/step\n",
            "\n",
            "\t Accuracy of testing data = 98.9%\n"
          ],
          "name": "stdout"
        }
      ]
    },
    {
      "cell_type": "code",
      "metadata": {
        "id": "_tuMhhi94eUj",
        "colab_type": "code",
        "colab": {}
      },
      "source": [
        "#print(\"\\t[Info] Show 10 prediction result (From 100):\")  \n",
        "\n",
        "#X = X_Test4K_norm[100:110,:]\n",
        "#prediction = model.predict_classes(X)\n",
        "#print(prediction)"
      ],
      "execution_count": 0,
      "outputs": []
    },
    {
      "cell_type": "markdown",
      "metadata": {
        "id": "-c_A6Urla6Es",
        "colab_type": "text"
      },
      "source": [
        "## **加大池化數量**"
      ]
    },
    {
      "cell_type": "code",
      "metadata": {
        "id": "XYrMJkycYWbT",
        "colab_type": "code",
        "colab": {}
      },
      "source": [
        "model_1 = Sequential()\n",
        "\n",
        "#CNN layer 1 & Max Pool layer 1\n",
        "model_1.add(Conv2D(filters=16, kernel_size=(5,5), padding='same', input_shape=(28,28,1), activation='relu'))\n",
        "model_1.add(MaxPooling2D(pool_size=(5,5)))\n",
        "  \n",
        "#CNN layer 2 & Max Pool layer 2\n",
        "model_1.add(Conv2D(filters=36, kernel_size=(5,5), padding='same', input_shape=(28,28,1), activation='relu'))\n",
        "model_1.add(MaxPooling2D(pool_size=(5,5)))\n",
        "\n",
        "#Dropout layer\n",
        "model_1.add(Dropout(1))\n",
        "\n",
        "\n",
        "model_1.add(Flatten())\n",
        "\n",
        "#FC layer\n",
        "model_1.add(Dense(10, activation='softmax'))"
      ],
      "execution_count": 0,
      "outputs": []
    },
    {
      "cell_type": "code",
      "metadata": {
        "id": "f-arlwkrYqke",
        "colab_type": "code",
        "outputId": "53064933-6bb3-4e39-949a-6d676e39f246",
        "colab": {
          "base_uri": "https://localhost:8080/",
          "height": 391
        }
      },
      "source": [
        "model_1.summary()\n",
        "print(\"\")"
      ],
      "execution_count": 10,
      "outputs": [
        {
          "output_type": "stream",
          "text": [
            "_________________________________________________________________\n",
            "Layer (type)                 Output Shape              Param #   \n",
            "=================================================================\n",
            "conv2d_3 (Conv2D)            (None, 28, 28, 16)        416       \n",
            "_________________________________________________________________\n",
            "max_pooling2d_3 (MaxPooling2 (None, 5, 5, 16)          0         \n",
            "_________________________________________________________________\n",
            "conv2d_4 (Conv2D)            (None, 5, 5, 36)          14436     \n",
            "_________________________________________________________________\n",
            "max_pooling2d_4 (MaxPooling2 (None, 1, 1, 36)          0         \n",
            "_________________________________________________________________\n",
            "dropout_2 (Dropout)          (None, 1, 1, 36)          0         \n",
            "_________________________________________________________________\n",
            "flatten_2 (Flatten)          (None, 36)                0         \n",
            "_________________________________________________________________\n",
            "dense_2 (Dense)              (None, 10)                370       \n",
            "=================================================================\n",
            "Total params: 15,222\n",
            "Trainable params: 15,222\n",
            "Non-trainable params: 0\n",
            "_________________________________________________________________\n",
            "\n"
          ],
          "name": "stdout"
        }
      ]
    },
    {
      "cell_type": "code",
      "metadata": {
        "id": "Wykk-0nPYuDF",
        "colab_type": "code",
        "outputId": "ebd36480-486d-4aa6-ba89-fe490882faa2",
        "colab": {
          "base_uri": "https://localhost:8080/",
          "height": 425
        }
      },
      "source": [
        "model_1.compile(loss='mse', optimizer=Adam(lr=0.005), metrics=['accuracy'])\n",
        "\n",
        "train_fit_history_1 = model_1.fit(x=X_Train4K_norm, y=y_TrainOneHot, validation_split=0.2, epochs=10, batch_size=300, verbose=2)\n",
        "\n",
        "score_1 = model_1.evaluate(X_Train4K, y_TrainOneHot)\n",
        "print()\n",
        "print(\"\\t Accuracy of testing data = {:2.1f}%\".format(score_1[1]*100.0))"
      ],
      "execution_count": 11,
      "outputs": [
        {
          "output_type": "stream",
          "text": [
            "Train on 48000 samples, validate on 12000 samples\n",
            "Epoch 1/10\n",
            " - 1s - loss: 0.0212 - acc: 0.8484 - val_loss: 0.0059 - val_acc: 0.9626\n",
            "Epoch 2/10\n",
            " - 1s - loss: 0.0051 - acc: 0.9673 - val_loss: 0.0043 - val_acc: 0.9727\n",
            "Epoch 3/10\n",
            " - 1s - loss: 0.0037 - acc: 0.9766 - val_loss: 0.0037 - val_acc: 0.9758\n",
            "Epoch 4/10\n",
            " - 1s - loss: 0.0030 - acc: 0.9805 - val_loss: 0.0035 - val_acc: 0.9771\n",
            "Epoch 5/10\n",
            " - 1s - loss: 0.0025 - acc: 0.9840 - val_loss: 0.0028 - val_acc: 0.9818\n",
            "Epoch 6/10\n",
            " - 1s - loss: 0.0022 - acc: 0.9863 - val_loss: 0.0028 - val_acc: 0.9818\n",
            "Epoch 7/10\n",
            " - 1s - loss: 0.0020 - acc: 0.9873 - val_loss: 0.0025 - val_acc: 0.9840\n",
            "Epoch 8/10\n",
            " - 1s - loss: 0.0017 - acc: 0.9899 - val_loss: 0.0022 - val_acc: 0.9858\n",
            "Epoch 9/10\n",
            " - 1s - loss: 0.0017 - acc: 0.9895 - val_loss: 0.0025 - val_acc: 0.9843\n",
            "Epoch 10/10\n",
            " - 1s - loss: 0.0015 - acc: 0.9907 - val_loss: 0.0026 - val_acc: 0.9830\n",
            "60000/60000 [==============================] - 3s 42us/step\n",
            "\n",
            "\t Accuracy of testing data = 94.7%\n"
          ],
          "name": "stdout"
        }
      ]
    },
    {
      "cell_type": "code",
      "metadata": {
        "id": "PvhLytRubWiA",
        "colab_type": "code",
        "outputId": "9b5fc781-5302-40a7-f028-004a35ae9c1c",
        "colab": {
          "base_uri": "https://localhost:8080/",
          "height": 85
        }
      },
      "source": [
        "print(\"\\t[Info] MaxPool = 3x3 and show 10 prediction result (From 100):\")  \n",
        "X = X_Test4K_norm[100:110,:]\n",
        "prediction = model.predict_classes(X)\n",
        "print(prediction)\n",
        "\n",
        "\n",
        "print(\"\\t[Info] MaxPool = 5x5 and show 10 prediction result (From 100):\")  \n",
        "X_1 = X_Test4K_norm[100:110,:]\n",
        "prediction_1 = model.predict_classes(X_1)\n",
        "print(prediction_1)"
      ],
      "execution_count": 12,
      "outputs": [
        {
          "output_type": "stream",
          "text": [
            "\t[Info] MaxPool = 3x3 and show 10 prediction result (From 100):\n",
            "[6 0 5 4 9 9 2 1 9 4]\n",
            "\t[Info] MaxPool = 5x5 and show 10 prediction result (From 100):\n",
            "[6 0 5 4 9 9 2 1 9 4]\n"
          ],
          "name": "stdout"
        }
      ]
    },
    {
      "cell_type": "code",
      "metadata": {
        "id": "JpYK_Y1wY80q",
        "colab_type": "code",
        "outputId": "2df99d9f-efb6-4396-b92c-4ba4f3b9018a",
        "colab": {
          "base_uri": "https://localhost:8080/",
          "height": 295
        }
      },
      "source": [
        "plt.plot(train_fit_history.history[\"acc\"])\n",
        "plt.plot(train_fit_history_1.history[\"acc\"])\n",
        "\n",
        "\n",
        "plt.title(\"Model Training Accuracy\")\n",
        "plt.ylabel(\"Accuracy(mse)\")\n",
        "plt.xlabel(\"Epoch\")\n",
        "plt.legend([\"MaxPool=3\",\"MaxPool=5\"], loc=\"best\")\n",
        "plt.show()"
      ],
      "execution_count": 13,
      "outputs": [
        {
          "output_type": "display_data",
          "data": {
            "image/png": "[encoded data removed]",
            "text/plain": [
              "<Figure size 432x288 with 1 Axes>"
            ]
          },
          "metadata": {
            "tags": []
          }
        }
      ]
    },
    {
      "cell_type": "markdown",
      "metadata": {
        "id": "2bOJEnPmaCc_",
        "colab_type": "text"
      },
      "source": [
        "## **依據訓練結果，加大池化數量也是導致準確度下降的因數之一**"
      ]
    }
  ]
}