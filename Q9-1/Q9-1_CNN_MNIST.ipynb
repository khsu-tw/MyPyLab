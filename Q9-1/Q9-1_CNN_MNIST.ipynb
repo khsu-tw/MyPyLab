{
  "nbformat": 4,
  "nbformat_minor": 0,
  "metadata": {
    "colab": {
      "name": "Q9-1.ipynb",
      "version": "0.3.2",
      "provenance": [],
      "collapsed_sections": []
    },
    "kernelspec": {
      "name": "python3",
      "display_name": "Python 3"
    },
    "accelerator": "GPU"
  },
  "cells": [
    {
      "cell_type": "code",
      "metadata": {
        "id": "HlGv4OrxirRy",
        "colab_type": "code",
        "outputId": "6d0d6306-33b2-4e0b-df34-15fbcbac706d",
        "colab": {
          "base_uri": "https://localhost:8080/",
          "height": 34
        }
      },
      "source": [
        "from keras.models import Sequential\n",
        "from keras.layers import Dense,Dropout,Flatten,Conv2D,MaxPooling2D\n",
        "from keras.datasets import mnist\n",
        "from keras.utils import np_utils\n",
        "from keras.optimizers import SGD, RMSprop, Adagrad, Adadelta, Adamax, Nadam, Adam\n",
        "import numpy as np\n",
        "from matplotlib import pyplot as plt"
      ],
      "execution_count": 1,
      "outputs": [
        {
          "output_type": "stream",
          "text": [
            "Using TensorFlow backend.\n"
          ],
          "name": "stderr"
        }
      ]
    },
    {
      "cell_type": "code",
      "metadata": {
        "id": "vOASccc6iuf6",
        "colab_type": "code",
        "outputId": "c2b73a23-61b6-42e1-b44c-d1fbea047c0d",
        "colab": {
          "base_uri": "https://localhost:8080/",
          "height": 51
        }
      },
      "source": [
        "np.random.seed(10)\n",
        "  \n",
        "# Read MNIST data\n",
        "(X_Train, y_Train), (X_Test, y_Test) = mnist.load_data()\n",
        "  \n",
        "# Translation of data\n",
        "X_Train40 = X_Train.reshape(X_Train.shape[0], 28, 28, 1).astype('float32')\n",
        "X_Test40 = X_Test.reshape(X_Test.shape[0], 28, 28, 1).astype('float32')"
      ],
      "execution_count": 2,
      "outputs": [
        {
          "output_type": "stream",
          "text": [
            "Downloading data from https://s3.amazonaws.com/img-datasets/mnist.npz\n",
            "11493376/11490434 [==============================] - 1s 0us/step\n"
          ],
          "name": "stdout"
        }
      ]
    },
    {
      "cell_type": "code",
      "metadata": {
        "id": "q_pzQn_Pi-BO",
        "colab_type": "code",
        "colab": {}
      },
      "source": [
        "# Standardize feature data\n",
        "X_Train40_norm = X_Train40 / 255\n",
        "X_Test40_norm = X_Test40 /255\n",
        "  \n",
        "# Label Onehot-encoding  \n",
        "y_TrainOneHot = np_utils.to_categorical(y_Train)\n",
        "y_TestOneHot = np_utils.to_categorical(y_Test)"
      ],
      "execution_count": 0,
      "outputs": []
    },
    {
      "cell_type": "code",
      "metadata": {
        "id": "s3Bbx1o-i_aj",
        "colab_type": "code",
        "outputId": "2fdad066-5dda-4ea9-d711-be73184e99e6",
        "colab": {
          "base_uri": "https://localhost:8080/",
          "height": 144
        }
      },
      "source": [
        "model = Sequential()\n",
        "# Create CN layer 1  \n",
        "model.add(Conv2D(filters=16, kernel_size=(5,5), padding='same', input_shape=(28,28,1), activation='relu'))\n",
        "\n",
        "# Create Max-Pool 1\n",
        "model.add(MaxPooling2D(pool_size=(2,2)))\n",
        "  \n",
        "# Create CN layer 2\n",
        "model.add(Conv2D(filters=36, kernel_size=(5,5), padding='same', input_shape=(28,28,1), activation='relu'))\n",
        "  \n",
        "# Create Max-Pool 2\n",
        "model.add(MaxPooling2D(pool_size=(2,2)))\n",
        "  \n",
        "# Add Dropout layer  \n",
        "model.add(Dropout(0.25))"
      ],
      "execution_count": 4,
      "outputs": [
        {
          "output_type": "stream",
          "text": [
            "WARNING:tensorflow:From /usr/local/lib/python3.6/dist-packages/tensorflow/python/framework/op_def_library.py:263: colocate_with (from tensorflow.python.framework.ops) is deprecated and will be removed in a future version.\n",
            "Instructions for updating:\n",
            "Colocations handled automatically by placer.\n",
            "WARNING:tensorflow:From /usr/local/lib/python3.6/dist-packages/keras/backend/tensorflow_backend.py:3445: calling dropout (from tensorflow.python.ops.nn_ops) with keep_prob is deprecated and will be removed in a future version.\n",
            "Instructions for updating:\n",
            "Please use `rate` instead of `keep_prob`. Rate should be set to `rate = 1 - keep_prob`.\n"
          ],
          "name": "stdout"
        }
      ]
    },
    {
      "cell_type": "code",
      "metadata": {
        "id": "rQSAdhKnjEe-",
        "colab_type": "code",
        "colab": {}
      },
      "source": [
        "model.add(Flatten())"
      ],
      "execution_count": 0,
      "outputs": []
    },
    {
      "cell_type": "code",
      "metadata": {
        "id": "uWZ7hVq8jGor",
        "colab_type": "code",
        "colab": {}
      },
      "source": [
        "model.add(Dense(128, activation='relu'))\n",
        "model.add(Dropout(0.5))"
      ],
      "execution_count": 0,
      "outputs": []
    },
    {
      "cell_type": "code",
      "metadata": {
        "id": "PK6aoYn8jLW4",
        "colab_type": "code",
        "colab": {}
      },
      "source": [
        "model.add(Dense(10, activation='softmax'))"
      ],
      "execution_count": 0,
      "outputs": []
    },
    {
      "cell_type": "code",
      "metadata": {
        "id": "ElRRUYitjNTm",
        "colab_type": "code",
        "outputId": "41308920-260f-46c9-9a04-323bd1bf3ee5",
        "colab": {
          "base_uri": "https://localhost:8080/",
          "height": 459
        }
      },
      "source": [
        "model.summary()\n",
        "print(\"\")"
      ],
      "execution_count": 8,
      "outputs": [
        {
          "output_type": "stream",
          "text": [
            "_________________________________________________________________\n",
            "Layer (type)                 Output Shape              Param #   \n",
            "=================================================================\n",
            "conv2d_1 (Conv2D)            (None, 28, 28, 16)        416       \n",
            "_________________________________________________________________\n",
            "max_pooling2d_1 (MaxPooling2 (None, 14, 14, 16)        0         \n",
            "_________________________________________________________________\n",
            "conv2d_2 (Conv2D)            (None, 14, 14, 36)        14436     \n",
            "_________________________________________________________________\n",
            "max_pooling2d_2 (MaxPooling2 (None, 7, 7, 36)          0         \n",
            "_________________________________________________________________\n",
            "dropout_1 (Dropout)          (None, 7, 7, 36)          0         \n",
            "_________________________________________________________________\n",
            "flatten_1 (Flatten)          (None, 1764)              0         \n",
            "_________________________________________________________________\n",
            "dense_1 (Dense)              (None, 128)               225920    \n",
            "_________________________________________________________________\n",
            "dropout_2 (Dropout)          (None, 128)               0         \n",
            "_________________________________________________________________\n",
            "dense_2 (Dense)              (None, 10)                1290      \n",
            "=================================================================\n",
            "Total params: 242,062\n",
            "Trainable params: 242,062\n",
            "Non-trainable params: 0\n",
            "_________________________________________________________________\n",
            "\n"
          ],
          "name": "stdout"
        }
      ]
    },
    {
      "cell_type": "code",
      "metadata": {
        "id": "_TiZxgQ0jOwD",
        "colab_type": "code",
        "outputId": "f06d2d80-7758-4b97-adc5-fceb5d90d2a3",
        "colab": {
          "base_uri": "https://localhost:8080/",
          "height": 790
        }
      },
      "source": [
        "# 定義訓練方式\n",
        "#model.compile(loss='categorical_crossentropy', optimizer=Adam(lr=0.005), metrics=['accuracy'])\n",
        "model.compile(loss='categorical_crossentropy', optimizer='adam', metrics=['accuracy'])\n",
        "\n",
        "# 開始訓練\n",
        "train_fit_history = model.fit(x=X_Train40_norm, y=y_TrainOneHot, validation_split=0.2, epochs=20, batch_size=300, verbose=2)"
      ],
      "execution_count": 9,
      "outputs": [
        {
          "output_type": "stream",
          "text": [
            "WARNING:tensorflow:From /usr/local/lib/python3.6/dist-packages/tensorflow/python/ops/math_ops.py:3066: to_int32 (from tensorflow.python.ops.math_ops) is deprecated and will be removed in a future version.\n",
            "Instructions for updating:\n",
            "Use tf.cast instead.\n",
            "Train on 48000 samples, validate on 12000 samples\n",
            "Epoch 1/20\n",
            " - 7s - loss: 0.4891 - acc: 0.8477 - val_loss: 0.0972 - val_acc: 0.9714\n",
            "Epoch 2/20\n",
            " - 1s - loss: 0.1427 - acc: 0.9580 - val_loss: 0.0635 - val_acc: 0.9806\n",
            "Epoch 3/20\n",
            " - 1s - loss: 0.1036 - acc: 0.9691 - val_loss: 0.0518 - val_acc: 0.9835\n",
            "Epoch 4/20\n",
            " - 1s - loss: 0.0846 - acc: 0.9750 - val_loss: 0.0460 - val_acc: 0.9864\n",
            "Epoch 5/20\n",
            " - 1s - loss: 0.0729 - acc: 0.9776 - val_loss: 0.0401 - val_acc: 0.9873\n",
            "Epoch 6/20\n",
            " - 1s - loss: 0.0645 - acc: 0.9808 - val_loss: 0.0398 - val_acc: 0.9884\n",
            "Epoch 7/20\n",
            " - 1s - loss: 0.0553 - acc: 0.9831 - val_loss: 0.0439 - val_acc: 0.9866\n",
            "Epoch 8/20\n",
            " - 1s - loss: 0.0514 - acc: 0.9838 - val_loss: 0.0352 - val_acc: 0.9897\n",
            "Epoch 9/20\n",
            " - 1s - loss: 0.0452 - acc: 0.9858 - val_loss: 0.0343 - val_acc: 0.9896\n",
            "Epoch 10/20\n",
            " - 1s - loss: 0.0429 - acc: 0.9867 - val_loss: 0.0340 - val_acc: 0.9900\n",
            "Epoch 11/20\n",
            " - 1s - loss: 0.0411 - acc: 0.9873 - val_loss: 0.0331 - val_acc: 0.9901\n",
            "Epoch 12/20\n",
            " - 1s - loss: 0.0375 - acc: 0.9880 - val_loss: 0.0290 - val_acc: 0.9909\n",
            "Epoch 13/20\n",
            " - 1s - loss: 0.0342 - acc: 0.9897 - val_loss: 0.0282 - val_acc: 0.9919\n",
            "Epoch 14/20\n",
            " - 1s - loss: 0.0319 - acc: 0.9903 - val_loss: 0.0284 - val_acc: 0.9916\n",
            "Epoch 15/20\n",
            " - 1s - loss: 0.0308 - acc: 0.9901 - val_loss: 0.0266 - val_acc: 0.9930\n",
            "Epoch 16/20\n",
            " - 1s - loss: 0.0291 - acc: 0.9904 - val_loss: 0.0277 - val_acc: 0.9919\n",
            "Epoch 17/20\n",
            " - 1s - loss: 0.0274 - acc: 0.9916 - val_loss: 0.0287 - val_acc: 0.9918\n",
            "Epoch 18/20\n",
            " - 1s - loss: 0.0254 - acc: 0.9918 - val_loss: 0.0277 - val_acc: 0.9925\n",
            "Epoch 19/20\n",
            " - 1s - loss: 0.0266 - acc: 0.9916 - val_loss: 0.0274 - val_acc: 0.9923\n",
            "Epoch 20/20\n",
            " - 1s - loss: 0.0236 - acc: 0.9924 - val_loss: 0.0261 - val_acc: 0.9923\n"
          ],
          "name": "stdout"
        }
      ]
    },
    {
      "cell_type": "code",
      "metadata": {
        "id": "dvSFQRr818fb",
        "colab_type": "code",
        "outputId": "068be381-2b59-47ac-9b8f-0fb0cf206814",
        "colab": {
          "base_uri": "https://localhost:8080/",
          "height": 68
        }
      },
      "source": [
        "score = model.evaluate(X_Train40, y_TrainOneHot)\n",
        "print()\n",
        "print(\"\\t Accuracy of testing data = {:2.1f}%\".format(score[1]*100.0))"
      ],
      "execution_count": 10,
      "outputs": [
        {
          "output_type": "stream",
          "text": [
            "60000/60000 [==============================] - 3s 45us/step\n",
            "\n",
            "\t Accuracy of testing data = 99.7%\n"
          ],
          "name": "stdout"
        }
      ]
    },
    {
      "cell_type": "code",
      "metadata": {
        "id": "-Vkf023W194b",
        "colab_type": "code",
        "outputId": "9cb7e71f-4bff-4187-ceb8-e66440d5f732",
        "colab": {
          "base_uri": "https://localhost:8080/",
          "height": 295
        }
      },
      "source": [
        "plt.plot(train_fit_history.history[\"acc\"])\n",
        "\n",
        "plt.title(\"Model Training Accuracy\")\n",
        "plt.ylabel(\"Accuracy\")\n",
        "plt.xlabel(\"Epoch\")\n",
        "plt.legend(\"CC\", loc=\"best\")\n",
        "plt.show()"
      ],
      "execution_count": 16,
      "outputs": [
        {
          "output_type": "display_data",
          "data": {
            "image/png": "[encoded data removed]",
            "text/plain": [
              "<Figure size 432x288 with 1 Axes>"
            ]
          },
          "metadata": {
            "tags": []
          }
        }
      ]
    },
    {
      "cell_type": "code",
      "metadata": {
        "id": "_tuMhhi94eUj",
        "colab_type": "code",
        "outputId": "a424560d-bd03-4b19-8789-7e938279098c",
        "colab": {
          "base_uri": "https://localhost:8080/",
          "height": 51
        }
      },
      "source": [
        "print(\"\\t[Info] Show 10 prediction result (From 240):\")  \n",
        "\n",
        "#X = X_Test40_norm[0:10,:]\n",
        "X = X_Test40_norm[240:250,:]\n",
        "prediction = model.predict_classes(X)\n",
        "print(prediction)"
      ],
      "execution_count": 31,
      "outputs": [
        {
          "output_type": "stream",
          "text": [
            "\t[Info] Show 10 prediction result (From 240):\n",
            "[5 9 8 7 2 3 0 4 4 2]\n"
          ],
          "name": "stdout"
        }
      ]
    },
    {
      "cell_type": "code",
      "metadata": {
        "id": "ygazNsZv919i",
        "colab_type": "code",
        "outputId": "d6ff05ac-48b1-4db3-9485-9ccc17ad2de8",
        "colab": {
          "base_uri": "https://localhost:8080/",
          "height": 269
        }
      },
      "source": [
        "plt.imshow(X_Test[249])\n",
        "plt.show() "
      ],
      "execution_count": 59,
      "outputs": [
        {
          "output_type": "display_data",
          "data": {
            "image/png": "[encoded data removed]",
            "text/plain": [
              "<Figure size 432x288 with 1 Axes>"
            ]
          },
          "metadata": {
            "tags": []
          }
        }
      ]
    },
    {
      "cell_type": "code",
      "metadata": {
        "id": "GNNDH3Dn9z8h",
        "colab_type": "code",
        "colab": {}
      },
      "source": [
        "def plot_images_labels_predict(images, labels, prediction, idx, num=10):\n",
        "  fig = plt.gcf()\n",
        "  fig.set_size_inches(12, 14)\n",
        "  if num > 25: num = 25\n",
        "  for i in range(0, num):\n",
        "      ax=plt.subplot(5,5, 1+i)\n",
        "      ax.imshow(images[idx], cmap='binary')\n",
        "      title = \"l=\" + str(labels[idx])\n",
        "      if len(prediction) > 0:\n",
        "        title = \"l={},p={}\".format(str(labels[idx]), str(prediction[idx]))\n",
        "      else:\n",
        "        title = \"l={}\".format(str(labels[idx]))\n",
        "      ax.set_title(title, fontsize=10)\n",
        "      ax.set_xticks([]); ax.set_yticks([])\n",
        "      idx+=1\n",
        "  plt.show()  "
      ],
      "execution_count": 0,
      "outputs": []
    },
    {
      "cell_type": "code",
      "metadata": {
        "id": "-Ss5hjtz_atU",
        "colab_type": "code",
        "outputId": "9be66610-c7d5-425f-90d3-2a3acf1c7cc4",
        "colab": {
          "base_uri": "https://localhost:8080/",
          "height": 321
        }
      },
      "source": [
        "plot_images_labels_predict(X_Test, y_Test, prediction, idx=240)\n",
        "plt.show()"
      ],
      "execution_count": 56,
      "outputs": [
        {
          "output_type": "display_data",
          "data": {
            "image/png": "[encoded data removed]",
            "text/plain": [
              "<Figure size 864x1008 with 10 Axes>"
            ]
          },
          "metadata": {
            "tags": []
          }
        }
      ]
    },
    {
      "cell_type": "code",
      "metadata": {
        "id": "G6qXFyfk8shW",
        "colab_type": "code",
        "colab": {}
      },
      "source": [
        ""
      ],
      "execution_count": 0,
      "outputs": []
    }
  ]
}