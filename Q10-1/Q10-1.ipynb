{
 "cells": [
  {
   "cell_type": "code",
   "execution_count": 1,
   "metadata": {},
   "outputs": [
    {
     "name": "stdout",
     "output_type": "stream",
     "text": [
      "env: KERAS_BACKEND=tensorflow\n"
     ]
    }
   ],
   "source": [
    "%env KERAS_BACKEND=tensorflow\n",
    "import numpy as np\n",
    "import matplotlib.pyplot as plt"
   ]
  },
  {
   "cell_type": "code",
   "execution_count": 2,
   "metadata": {},
   "outputs": [
    {
     "name": "stderr",
     "output_type": "stream",
     "text": [
      "Using TensorFlow backend.\n"
     ]
    }
   ],
   "source": [
    "from keras.datasets import imdb"
   ]
  },
  {
   "cell_type": "code",
   "execution_count": 3,
   "metadata": {},
   "outputs": [],
   "source": [
    "(x_train, y_train), (x_test, y_test) = imdb.load_data(num_words=10000)"
   ]
  },
  {
   "cell_type": "code",
   "execution_count": 4,
   "metadata": {},
   "outputs": [
    {
     "name": "stdout",
     "output_type": "stream",
     "text": [
      "訓練總筆數 25000\n",
      "測試總筆數 25000\n"
     ]
    }
   ],
   "source": [
    "print('訓練總筆數',len(x_train))\n",
    "print('測試總筆數',len(x_test))"
   ]
  },
  {
   "cell_type": "code",
   "execution_count": 5,
   "metadata": {},
   "outputs": [
    {
     "data": {
      "text/plain": [
       "array([1, 1, 0, 1, 1, 0, 0, 1, 0, 0])"
      ]
     },
     "execution_count": 5,
     "metadata": {},
     "output_type": "execute_result"
    }
   ],
   "source": [
    "y_train[:10]"
   ]
  },
  {
   "cell_type": "code",
   "execution_count": 6,
   "metadata": {},
   "outputs": [],
   "source": [
    "from keras.preprocessing import sequence"
   ]
  },
  {
   "cell_type": "code",
   "execution_count": 7,
   "metadata": {},
   "outputs": [],
   "source": [
    "x_train = sequence.pad_sequences(x_train, maxlen=150)\n",
    "x_test = sequence.pad_sequences(x_test, maxlen=150)"
   ]
  },
  {
   "cell_type": "code",
   "execution_count": 8,
   "metadata": {},
   "outputs": [
    {
     "data": {
      "text/plain": [
       "(25000, 150)"
      ]
     },
     "execution_count": 8,
     "metadata": {},
     "output_type": "execute_result"
    }
   ],
   "source": [
    "x_train.shape"
   ]
  },
  {
   "cell_type": "code",
   "execution_count": 9,
   "metadata": {},
   "outputs": [],
   "source": [
    "N = 3 #文字要壓到N維\n",
    "K = 4 #LSTM有K個神經元"
   ]
  },
  {
   "cell_type": "code",
   "execution_count": 10,
   "metadata": {},
   "outputs": [],
   "source": [
    "from keras.models import Sequential\n",
    "from keras.layers import Dense, Embedding, LSTM"
   ]
  },
  {
   "cell_type": "code",
   "execution_count": 11,
   "metadata": {},
   "outputs": [
    {
     "name": "stdout",
     "output_type": "stream",
     "text": [
      "WARNING:tensorflow:From /Users/keyneshsu/anaconda3/lib/python3.7/site-packages/tensorflow/python/framework/op_def_library.py:263: colocate_with (from tensorflow.python.framework.ops) is deprecated and will be removed in a future version.\n",
      "Instructions for updating:\n",
      "Colocations handled automatically by placer.\n",
      "WARNING:tensorflow:From /Users/keyneshsu/anaconda3/lib/python3.7/site-packages/keras/backend/tensorflow_backend.py:1238: calling reduce_sum_v1 (from tensorflow.python.ops.math_ops) with keep_dims is deprecated and will be removed in a future version.\n",
      "Instructions for updating:\n",
      "keep_dims is deprecated, use keepdims instead\n"
     ]
    }
   ],
   "source": [
    "model = Sequential()\n",
    "\n",
    "model.add(Embedding(10000,N))\n",
    "model.add(LSTM(K))\n",
    "\n",
    "model.add(Dense(1, activation='sigmoid'))"
   ]
  },
  {
   "cell_type": "code",
   "execution_count": 12,
   "metadata": {},
   "outputs": [],
   "source": [
    "model.compile(loss='binary_crossentropy',\n",
    "             optimizer='adam',\n",
    "             metrics=['accuracy'])"
   ]
  },
  {
   "cell_type": "code",
   "execution_count": 13,
   "metadata": {},
   "outputs": [
    {
     "name": "stdout",
     "output_type": "stream",
     "text": [
      "_________________________________________________________________\n",
      "Layer (type)                 Output Shape              Param #   \n",
      "=================================================================\n",
      "embedding_1 (Embedding)      (None, None, 3)           30000     \n",
      "_________________________________________________________________\n",
      "lstm_1 (LSTM)                (None, 4)                 128       \n",
      "_________________________________________________________________\n",
      "dense_1 (Dense)              (None, 1)                 5         \n",
      "=================================================================\n",
      "Total params: 30,133\n",
      "Trainable params: 30,133\n",
      "Non-trainable params: 0\n",
      "_________________________________________________________________\n"
     ]
    }
   ],
   "source": [
    "model.summary()"
   ]
  },
  {
   "cell_type": "code",
   "execution_count": 14,
   "metadata": {},
   "outputs": [
    {
     "name": "stdout",
     "output_type": "stream",
     "text": [
      "WARNING:tensorflow:From /Users/keyneshsu/anaconda3/lib/python3.7/site-packages/tensorflow/python/ops/math_ops.py:3066: to_int32 (from tensorflow.python.ops.math_ops) is deprecated and will be removed in a future version.\n",
      "Instructions for updating:\n",
      "Use tf.cast instead.\n",
      "Epoch 1/5\n",
      "25000/25000 [==============================] - 86s 3ms/step - loss: 0.5245 - acc: 0.7433\n",
      "Epoch 2/5\n",
      "25000/25000 [==============================] - 87s 3ms/step - loss: 0.3094 - acc: 0.8811\n",
      "Epoch 3/5\n",
      "25000/25000 [==============================] - 87s 3ms/step - loss: 0.2324 - acc: 0.9141\n",
      "Epoch 4/5\n",
      "25000/25000 [==============================] - 86s 3ms/step - loss: 0.1903 - acc: 0.9338\n",
      "Epoch 5/5\n",
      "25000/25000 [==============================] - 87s 3ms/step - loss: 0.1635 - acc: 0.9442\n"
     ]
    }
   ],
   "source": [
    "model_fit_his = model.fit(x_train,y_train, batch_size=32, epochs=5)"
   ]
  },
  {
   "cell_type": "code",
   "execution_count": 15,
   "metadata": {},
   "outputs": [
    {
     "name": "stdout",
     "output_type": "stream",
     "text": [
      "25000/25000 [==============================] - 13s 510us/step\n",
      "\n",
      "\t Accuracy of testing data = 96.3%\n"
     ]
    }
   ],
   "source": [
    "score = model.evaluate(x_train, y_train)\n",
    "print()\n",
    "print(\"\\t Accuracy of testing data = {:2.1f}%\".format(score[1]*100.0))"
   ]
  },
  {
   "cell_type": "code",
   "execution_count": 16,
   "metadata": {},
   "outputs": [],
   "source": [
    "N1 = 50 #文字要壓到50維\n",
    "K1 = 50 #LSTM有50個神經元\n",
    "\n",
    "model_1 = Sequential()\n",
    "\n",
    "model_1.add(Embedding(10000,N1))\n",
    "model_1.add(LSTM(K1))\n",
    "\n",
    "model_1.add(Dense(1, activation='sigmoid'))\n",
    "\n",
    "model_1.compile(loss='binary_crossentropy',\n",
    "             optimizer='adam',\n",
    "             metrics=['accuracy'])"
   ]
  },
  {
   "cell_type": "code",
   "execution_count": 17,
   "metadata": {},
   "outputs": [
    {
     "name": "stdout",
     "output_type": "stream",
     "text": [
      "_________________________________________________________________\n",
      "Layer (type)                 Output Shape              Param #   \n",
      "=================================================================\n",
      "embedding_2 (Embedding)      (None, None, 50)          500000    \n",
      "_________________________________________________________________\n",
      "lstm_2 (LSTM)                (None, 50)                20200     \n",
      "_________________________________________________________________\n",
      "dense_2 (Dense)              (None, 1)                 51        \n",
      "=================================================================\n",
      "Total params: 520,251\n",
      "Trainable params: 520,251\n",
      "Non-trainable params: 0\n",
      "_________________________________________________________________\n"
     ]
    }
   ],
   "source": [
    "model_1.summary()"
   ]
  },
  {
   "cell_type": "code",
   "execution_count": 18,
   "metadata": {},
   "outputs": [
    {
     "name": "stdout",
     "output_type": "stream",
     "text": [
      "Epoch 1/5\n",
      "25000/25000 [==============================] - 103s 4ms/step - loss: 0.4013 - acc: 0.8158\n",
      "Epoch 2/5\n",
      "25000/25000 [==============================] - 104s 4ms/step - loss: 0.2466 - acc: 0.9030\n",
      "Epoch 3/5\n",
      "25000/25000 [==============================] - 105s 4ms/step - loss: 0.1872 - acc: 0.9282\n",
      "Epoch 4/5\n",
      "25000/25000 [==============================] - 106s 4ms/step - loss: 0.1476 - acc: 0.9468\n",
      "Epoch 5/5\n",
      "25000/25000 [==============================] - 105s 4ms/step - loss: 0.1202 - acc: 0.9558\n"
     ]
    }
   ],
   "source": [
    "model_1_fit_his = model_1.fit(x_train,y_train, batch_size=32, epochs=5)"
   ]
  },
  {
   "cell_type": "code",
   "execution_count": 19,
   "metadata": {},
   "outputs": [
    {
     "name": "stdout",
     "output_type": "stream",
     "text": [
      "25000/25000 [==============================] - 15s 589us/step\n",
      "\n",
      "\t Accuracy of testing data = 95.5%\n"
     ]
    }
   ],
   "source": [
    "score_1 = model_1.evaluate(x_train, y_train)\n",
    "print()\n",
    "print(\"\\t Accuracy of testing data = {:2.1f}%\".format(score_1[1]*100.0))"
   ]
  },
  {
   "cell_type": "code",
   "execution_count": 20,
   "metadata": {},
   "outputs": [],
   "source": [
    "N2 = 50 #文字要壓到50維\n",
    "K2 = 8 #LSTM有8個神經元\n",
    "\n",
    "model_2 = Sequential()\n",
    "\n",
    "model_2.add(Embedding(10000,N2))\n",
    "model_2.add(LSTM(K2))\n",
    "\n",
    "model_2.add(Dense(1, activation='sigmoid'))\n",
    "\n",
    "model_2.compile(loss='binary_crossentropy',\n",
    "             optimizer='adam',\n",
    "             metrics=['accuracy'])"
   ]
  },
  {
   "cell_type": "code",
   "execution_count": 21,
   "metadata": {},
   "outputs": [
    {
     "name": "stdout",
     "output_type": "stream",
     "text": [
      "_________________________________________________________________\n",
      "Layer (type)                 Output Shape              Param #   \n",
      "=================================================================\n",
      "embedding_3 (Embedding)      (None, None, 50)          500000    \n",
      "_________________________________________________________________\n",
      "lstm_3 (LSTM)                (None, 8)                 1888      \n",
      "_________________________________________________________________\n",
      "dense_3 (Dense)              (None, 1)                 9         \n",
      "=================================================================\n",
      "Total params: 501,897\n",
      "Trainable params: 501,897\n",
      "Non-trainable params: 0\n",
      "_________________________________________________________________\n"
     ]
    }
   ],
   "source": [
    "model_2.summary()"
   ]
  },
  {
   "cell_type": "code",
   "execution_count": 22,
   "metadata": {},
   "outputs": [
    {
     "name": "stdout",
     "output_type": "stream",
     "text": [
      "Epoch 1/5\n",
      "25000/25000 [==============================] - 101s 4ms/step - loss: 0.4659 - acc: 0.7880\n",
      "Epoch 2/5\n",
      "25000/25000 [==============================] - 99s 4ms/step - loss: 0.2802 - acc: 0.8908\n",
      "Epoch 3/5\n",
      "25000/25000 [==============================] - 101s 4ms/step - loss: 0.2007 - acc: 0.9267\n",
      "Epoch 4/5\n",
      "25000/25000 [==============================] - 100s 4ms/step - loss: 0.1522 - acc: 0.9454\n",
      "Epoch 5/5\n",
      "25000/25000 [==============================] - 98s 4ms/step - loss: 0.1214 - acc: 0.9596\n"
     ]
    }
   ],
   "source": [
    "model_2_fit_his = model_2.fit(x_train,y_train, batch_size=32, epochs=5)"
   ]
  },
  {
   "cell_type": "code",
   "execution_count": 23,
   "metadata": {},
   "outputs": [
    {
     "name": "stdout",
     "output_type": "stream",
     "text": [
      "25000/25000 [==============================] - 14s 560us/step\n",
      "\n",
      "\t Accuracy of testing data = 96.8%\n"
     ]
    }
   ],
   "source": [
    "score_2 = model_2.evaluate(x_train, y_train)\n",
    "print()\n",
    "print(\"\\t Accuracy of testing data = {:2.1f}%\".format(score_2[1]*100.0))"
   ]
  },
  {
   "cell_type": "code",
   "execution_count": 24,
   "metadata": {},
   "outputs": [],
   "source": [
    "N3 = 8 #文字要壓到8維\n",
    "K3 = 50 #LSTM有50個神經元\n",
    "\n",
    "model_3 = Sequential()\n",
    "\n",
    "model_3.add(Embedding(10000,N3))\n",
    "model_3.add(LSTM(K3))\n",
    "\n",
    "model_3.add(Dense(1, activation='sigmoid'))\n",
    "\n",
    "model_3.compile(loss='binary_crossentropy',\n",
    "             optimizer='adam',\n",
    "             metrics=['accuracy'])"
   ]
  },
  {
   "cell_type": "code",
   "execution_count": 25,
   "metadata": {},
   "outputs": [
    {
     "name": "stdout",
     "output_type": "stream",
     "text": [
      "_________________________________________________________________\n",
      "Layer (type)                 Output Shape              Param #   \n",
      "=================================================================\n",
      "embedding_4 (Embedding)      (None, None, 8)           80000     \n",
      "_________________________________________________________________\n",
      "lstm_4 (LSTM)                (None, 50)                11800     \n",
      "_________________________________________________________________\n",
      "dense_4 (Dense)              (None, 1)                 51        \n",
      "=================================================================\n",
      "Total params: 91,851\n",
      "Trainable params: 91,851\n",
      "Non-trainable params: 0\n",
      "_________________________________________________________________\n"
     ]
    }
   ],
   "source": [
    "model_3.summary()"
   ]
  },
  {
   "cell_type": "code",
   "execution_count": 26,
   "metadata": {},
   "outputs": [
    {
     "name": "stdout",
     "output_type": "stream",
     "text": [
      "Epoch 1/5\n",
      "25000/25000 [==============================] - 101s 4ms/step - loss: 0.4451 - acc: 0.7734\n",
      "Epoch 2/5\n",
      "25000/25000 [==============================] - 99s 4ms/step - loss: 0.2576 - acc: 0.8978\n",
      "Epoch 3/5\n",
      "25000/25000 [==============================] - 98s 4ms/step - loss: 0.2038 - acc: 0.9242\n",
      "Epoch 4/5\n",
      "25000/25000 [==============================] - 100s 4ms/step - loss: 0.1675 - acc: 0.9380\n",
      "Epoch 5/5\n",
      "25000/25000 [==============================] - 100s 4ms/step - loss: 0.1395 - acc: 0.9499\n"
     ]
    }
   ],
   "source": [
    "model_3_fit_his = model_3.fit(x_train,y_train, batch_size=32, epochs=5);"
   ]
  },
  {
   "cell_type": "code",
   "execution_count": 27,
   "metadata": {},
   "outputs": [
    {
     "name": "stdout",
     "output_type": "stream",
     "text": [
      "25000/25000 [==============================] - 15s 581us/step\n",
      "\n",
      "\t Accuracy of testing data = 96.8%\n"
     ]
    }
   ],
   "source": [
    "score_3 = model_3.evaluate(x_train, y_train)\n",
    "print()\n",
    "print(\"\\t Accuracy of testing data = {:2.1f}%\".format(score_3[1]*100.0))"
   ]
  },
  {
   "cell_type": "code",
   "execution_count": 28,
   "metadata": {},
   "outputs": [
    {
     "data": {
      "image/png": "[encoded data removed]",
      "text/plain": [
       "<Figure size 432x288 with 1 Axes>"
      ]
     },
     "metadata": {
      "needs_background": "light"
     },
     "output_type": "display_data"
    }
   ],
   "source": [
    "plt.plot(model_fit_his.history[\"acc\"])\n",
    "plt.plot(model_1_fit_his.history[\"acc\"])\n",
    "plt.plot(model_2_fit_his.history[\"acc\"])\n",
    "plt.plot(model_3_fit_his.history[\"acc\"])\n",
    "\n",
    "plt.title(\"Model Training Accuracy\")\n",
    "plt.ylabel(\"Accuracy\")\n",
    "plt.xlabel(\"Epoch\")\n",
    "plt.legend([\"N3,K4\",\"N50,K50\",\"N50,K8\",\"N8,K50\"], loc=\"best\")\n",
    "plt.show()"
   ]
  },
  {
   "cell_type": "code",
   "execution_count": null,
   "metadata": {},
   "outputs": [],
   "source": []
  }
 ],
 "metadata": {
  "kernelspec": {
   "display_name": "Python 3",
   "language": "python",
   "name": "python3"
  },
  "language_info": {
   "codemirror_mode": {
    "name": "ipython",
    "version": 3
   },
   "file_extension": ".py",
   "mimetype": "text/x-python",
   "name": "python",
   "nbconvert_exporter": "python",
   "pygments_lexer": "ipython3",
   "version": "3.7.2"
  }
 },
 "nbformat": 4,
 "nbformat_minor": 2
}
