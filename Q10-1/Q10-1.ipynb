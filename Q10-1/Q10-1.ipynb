{
 "cells": [
  {
   "cell_type": "code",
   "execution_count": 1,
   "metadata": {},
   "outputs": [
    {
     "name": "stdout",
     "output_type": "stream",
     "text": [
      "env: KERAS_BACKEND=tensorflow\n"
     ]
    }
   ],
   "source": [
    "%env KERAS_BACKEND=tensorflow\n",
    "import numpy as np\n",
    "import matplotlib.pyplot as plt"
   ]
  },
  {
   "cell_type": "code",
   "execution_count": 2,
   "metadata": {},
   "outputs": [
    {
     "name": "stderr",
     "output_type": "stream",
     "text": [
      "Using TensorFlow backend.\n"
     ]
    }
   ],
   "source": [
    "from keras.datasets import imdb"
   ]
  },
  {
   "cell_type": "code",
   "execution_count": 3,
   "metadata": {},
   "outputs": [],
   "source": [
    "(x_train, y_train), (x_test, y_test) = imdb.load_data(num_words=10000)"
   ]
  },
  {
   "cell_type": "code",
   "execution_count": 4,
   "metadata": {},
   "outputs": [
    {
     "name": "stdout",
     "output_type": "stream",
     "text": [
      "訓練總筆數 25000\n",
      "測試總筆數 25000\n"
     ]
    }
   ],
   "source": [
    "print('訓練總筆數',len(x_train))\n",
    "print('測試總筆數',len(x_test))"
   ]
  },
  {
   "cell_type": "code",
   "execution_count": 5,
   "metadata": {},
   "outputs": [
    {
     "data": {
      "text/plain": [
       "array([0, 1, 0, 1, 0, 1, 0, 0, 0, 0])"
      ]
     },
     "execution_count": 5,
     "metadata": {},
     "output_type": "execute_result"
    }
   ],
   "source": [
    "y_train[:10]"
   ]
  },
  {
   "cell_type": "code",
   "execution_count": 6,
   "metadata": {},
   "outputs": [],
   "source": [
    "from keras.preprocessing import sequence"
   ]
  },
  {
   "cell_type": "code",
   "execution_count": 7,
   "metadata": {},
   "outputs": [],
   "source": [
    "x_train_maxlen = sequence.pad_sequences(x_train, maxlen=150)\n",
    "x_test_maxlen = sequence.pad_sequences(x_test, maxlen=150)"
   ]
  },
  {
   "cell_type": "code",
   "execution_count": 8,
   "metadata": {},
   "outputs": [
    {
     "data": {
      "text/plain": [
       "(25000,)"
      ]
     },
     "execution_count": 8,
     "metadata": {},
     "output_type": "execute_result"
    }
   ],
   "source": [
    "x_train.shape"
   ]
  },
  {
   "cell_type": "code",
   "execution_count": 9,
   "metadata": {},
   "outputs": [],
   "source": [
    "N = 3 #文字要壓到N維\n",
    "K = 4 #LSTM有K個神經元"
   ]
  },
  {
   "cell_type": "code",
   "execution_count": 10,
   "metadata": {},
   "outputs": [],
   "source": [
    "from keras.models import Sequential\n",
    "from keras.layers import Dense, Embedding, LSTM"
   ]
  },
  {
   "cell_type": "code",
   "execution_count": 11,
   "metadata": {},
   "outputs": [
    {
     "name": "stdout",
     "output_type": "stream",
     "text": [
      "WARNING:tensorflow:From /Users/keyneshsu/anaconda3/lib/python3.7/site-packages/tensorflow/python/framework/op_def_library.py:263: colocate_with (from tensorflow.python.framework.ops) is deprecated and will be removed in a future version.\n",
      "Instructions for updating:\n",
      "Colocations handled automatically by placer.\n",
      "WARNING:tensorflow:From /Users/keyneshsu/anaconda3/lib/python3.7/site-packages/keras/backend/tensorflow_backend.py:1238: calling reduce_sum_v1 (from tensorflow.python.ops.math_ops) with keep_dims is deprecated and will be removed in a future version.\n",
      "Instructions for updating:\n",
      "keep_dims is deprecated, use keepdims instead\n"
     ]
    }
   ],
   "source": [
    "model = Sequential()\n",
    "\n",
    "model.add(Embedding(10000,N))\n",
    "model.add(LSTM(K))\n",
    "\n",
    "model.add(Dense(1, activation='sigmoid'))"
   ]
  },
  {
   "cell_type": "code",
   "execution_count": 12,
   "metadata": {},
   "outputs": [],
   "source": [
    "model.compile(loss='binary_crossentropy',\n",
    "             optimizer='adam',\n",
    "             metrics=['accuracy'])"
   ]
  },
  {
   "cell_type": "code",
   "execution_count": 13,
   "metadata": {},
   "outputs": [
    {
     "name": "stdout",
     "output_type": "stream",
     "text": [
      "_________________________________________________________________\n",
      "Layer (type)                 Output Shape              Param #   \n",
      "=================================================================\n",
      "embedding_1 (Embedding)      (None, None, 3)           30000     \n",
      "_________________________________________________________________\n",
      "lstm_1 (LSTM)                (None, 4)                 128       \n",
      "_________________________________________________________________\n",
      "dense_1 (Dense)              (None, 1)                 5         \n",
      "=================================================================\n",
      "Total params: 30,133\n",
      "Trainable params: 30,133\n",
      "Non-trainable params: 0\n",
      "_________________________________________________________________\n"
     ]
    }
   ],
   "source": [
    "model.summary()"
   ]
  },
  {
   "cell_type": "code",
   "execution_count": 14,
   "metadata": {},
   "outputs": [
    {
     "name": "stdout",
     "output_type": "stream",
     "text": [
      "WARNING:tensorflow:From /Users/keyneshsu/anaconda3/lib/python3.7/site-packages/tensorflow/python/ops/math_ops.py:3066: to_int32 (from tensorflow.python.ops.math_ops) is deprecated and will be removed in a future version.\n",
      "Instructions for updating:\n",
      "Use tf.cast instead.\n",
      "Train on 25000 samples, validate on 25000 samples\n",
      "Epoch 1/5\n",
      "25000/25000 [==============================] - 101s 4ms/step - loss: 0.5441 - acc: 0.7269 - val_loss: 0.4497 - val_acc: 0.7972\n",
      "Epoch 2/5\n",
      "25000/25000 [==============================] - 99s 4ms/step - loss: 0.3546 - acc: 0.8589 - val_loss: 0.3686 - val_acc: 0.8445\n",
      "Epoch 3/5\n",
      "25000/25000 [==============================] - 98s 4ms/step - loss: 0.2815 - acc: 0.8918 - val_loss: 0.3644 - val_acc: 0.8502\n",
      "Epoch 4/5\n",
      "25000/25000 [==============================] - 94s 4ms/step - loss: 0.2378 - acc: 0.9143 - val_loss: 0.3687 - val_acc: 0.8492\n",
      "Epoch 5/5\n",
      "25000/25000 [==============================] - 99s 4ms/step - loss: 0.2052 - acc: 0.9290 - val_loss: 0.4058 - val_acc: 0.8463\n"
     ]
    }
   ],
   "source": [
    "model_fit_his = model.fit(x_train_maxlen,y_train, batch_size=32, epochs=5, validation_data = (x_test_maxlen, y_test))"
   ]
  },
  {
   "cell_type": "code",
   "execution_count": 17,
   "metadata": {},
   "outputs": [
    {
     "name": "stdout",
     "output_type": "stream",
     "text": [
      "25000/25000 [==============================] - 12s 488us/step\n",
      "\n",
      "\t Accuracy of testing data = 94.2%\n"
     ]
    }
   ],
   "source": [
    "score = model.evaluate(x_train_maxlen, y_train)\n",
    "print()\n",
    "print(\"\\t Accuracy of testing data = {:2.1f}%\".format(score[1]*100.0))"
   ]
  },
  {
   "cell_type": "code",
   "execution_count": 18,
   "metadata": {},
   "outputs": [],
   "source": [
    "N1 = 50 #文字要壓到50維\n",
    "K1 = 50 #LSTM有50個神經元\n",
    "\n",
    "model_1 = Sequential()\n",
    "\n",
    "model_1.add(Embedding(10000,N1))\n",
    "model_1.add(LSTM(K1))\n",
    "\n",
    "model_1.add(Dense(1, activation='sigmoid'))\n",
    "\n",
    "model_1.compile(loss='binary_crossentropy',\n",
    "             optimizer='adam',\n",
    "             metrics=['accuracy'])"
   ]
  },
  {
   "cell_type": "code",
   "execution_count": 19,
   "metadata": {},
   "outputs": [
    {
     "name": "stdout",
     "output_type": "stream",
     "text": [
      "_________________________________________________________________\n",
      "Layer (type)                 Output Shape              Param #   \n",
      "=================================================================\n",
      "embedding_2 (Embedding)      (None, None, 50)          500000    \n",
      "_________________________________________________________________\n",
      "lstm_2 (LSTM)                (None, 50)                20200     \n",
      "_________________________________________________________________\n",
      "dense_2 (Dense)              (None, 1)                 51        \n",
      "=================================================================\n",
      "Total params: 520,251\n",
      "Trainable params: 520,251\n",
      "Non-trainable params: 0\n",
      "_________________________________________________________________\n"
     ]
    }
   ],
   "source": [
    "model_1.summary()"
   ]
  },
  {
   "cell_type": "code",
   "execution_count": 20,
   "metadata": {},
   "outputs": [
    {
     "name": "stdout",
     "output_type": "stream",
     "text": [
      "Train on 25000 samples, validate on 25000 samples\n",
      "Epoch 1/5\n",
      "25000/25000 [==============================] - 118s 5ms/step - loss: 0.3973 - acc: 0.8160 - val_loss: 0.3234 - val_acc: 0.8650\n",
      "Epoch 2/5\n",
      "25000/25000 [==============================] - 122s 5ms/step - loss: 0.2471 - acc: 0.9025 - val_loss: 0.3483 - val_acc: 0.8530\n",
      "Epoch 3/5\n",
      "25000/25000 [==============================] - 120s 5ms/step - loss: 0.1845 - acc: 0.9291 - val_loss: 0.3400 - val_acc: 0.8596\n",
      "Epoch 4/5\n",
      "25000/25000 [==============================] - 116s 5ms/step - loss: 0.1393 - acc: 0.9481 - val_loss: 0.4384 - val_acc: 0.8470\n",
      "Epoch 5/5\n",
      "25000/25000 [==============================] - 115s 5ms/step - loss: 0.1141 - acc: 0.9590 - val_loss: 0.4907 - val_acc: 0.8392\n"
     ]
    }
   ],
   "source": [
    "model_1_fit_his = model_1.fit(x_train_maxlen,y_train, batch_size=32, epochs=5, validation_data = (x_test_maxlen, y_test))"
   ]
  },
  {
   "cell_type": "code",
   "execution_count": 21,
   "metadata": {},
   "outputs": [
    {
     "name": "stdout",
     "output_type": "stream",
     "text": [
      "25000/25000 [==============================] - 22s 876us/step\n",
      "\n",
      "\t Accuracy of testing data = 95.8%\n"
     ]
    }
   ],
   "source": [
    "score_1 = model_1.evaluate(x_train_maxlen, y_train)\n",
    "print()\n",
    "print(\"\\t Accuracy of testing data = {:2.1f}%\".format(score_1[1]*100.0))"
   ]
  },
  {
   "cell_type": "code",
   "execution_count": 22,
   "metadata": {},
   "outputs": [],
   "source": [
    "N2 = 50 #文字要壓到50維\n",
    "K2 = 8 #LSTM有8個神經元\n",
    "\n",
    "model_2 = Sequential()\n",
    "\n",
    "model_2.add(Embedding(10000,N2))\n",
    "model_2.add(LSTM(K2))\n",
    "\n",
    "model_2.add(Dense(1, activation='sigmoid'))\n",
    "\n",
    "model_2.compile(loss='binary_crossentropy',\n",
    "             optimizer='adam',\n",
    "             metrics=['accuracy'])"
   ]
  },
  {
   "cell_type": "code",
   "execution_count": 23,
   "metadata": {},
   "outputs": [
    {
     "name": "stdout",
     "output_type": "stream",
     "text": [
      "_________________________________________________________________\n",
      "Layer (type)                 Output Shape              Param #   \n",
      "=================================================================\n",
      "embedding_3 (Embedding)      (None, None, 50)          500000    \n",
      "_________________________________________________________________\n",
      "lstm_3 (LSTM)                (None, 8)                 1888      \n",
      "_________________________________________________________________\n",
      "dense_3 (Dense)              (None, 1)                 9         \n",
      "=================================================================\n",
      "Total params: 501,897\n",
      "Trainable params: 501,897\n",
      "Non-trainable params: 0\n",
      "_________________________________________________________________\n"
     ]
    }
   ],
   "source": [
    "model_2.summary()"
   ]
  },
  {
   "cell_type": "code",
   "execution_count": 24,
   "metadata": {},
   "outputs": [
    {
     "name": "stdout",
     "output_type": "stream",
     "text": [
      "Train on 25000 samples, validate on 25000 samples\n",
      "Epoch 1/5\n",
      "25000/25000 [==============================] - 122s 5ms/step - loss: 0.4407 - acc: 0.7931 - val_loss: 0.3353 - val_acc: 0.8601\n",
      "Epoch 2/5\n",
      "25000/25000 [==============================] - 115s 5ms/step - loss: 0.2493 - acc: 0.9020 - val_loss: 0.3314 - val_acc: 0.8640\n",
      "Epoch 3/5\n",
      "25000/25000 [==============================] - 110s 4ms/step - loss: 0.1755 - acc: 0.9368 - val_loss: 0.3762 - val_acc: 0.8569\n",
      "Epoch 4/5\n",
      "25000/25000 [==============================] - 109s 4ms/step - loss: 0.1370 - acc: 0.9520 - val_loss: 0.3759 - val_acc: 0.8548\n",
      "Epoch 5/5\n",
      "25000/25000 [==============================] - 110s 4ms/step - loss: 0.1062 - acc: 0.9651 - val_loss: 0.4467 - val_acc: 0.8563\n"
     ]
    }
   ],
   "source": [
    "model_2_fit_his = model_2.fit(x_train_maxlen,y_train, batch_size=32, epochs=5, validation_data = (x_test_maxlen, y_test))"
   ]
  },
  {
   "cell_type": "code",
   "execution_count": 25,
   "metadata": {},
   "outputs": [
    {
     "name": "stdout",
     "output_type": "stream",
     "text": [
      "25000/25000 [==============================] - 13s 526us/step\n",
      "\n",
      "\t Accuracy of testing data = 98.2%\n"
     ]
    }
   ],
   "source": [
    "score_2 = model_2.evaluate(x_train_maxlen, y_train)\n",
    "print()\n",
    "print(\"\\t Accuracy of testing data = {:2.1f}%\".format(score_2[1]*100.0))"
   ]
  },
  {
   "cell_type": "code",
   "execution_count": 26,
   "metadata": {},
   "outputs": [],
   "source": [
    "N3 = 8 #文字要壓到8維\n",
    "K3 = 50 #LSTM有50個神經元\n",
    "\n",
    "model_3 = Sequential()\n",
    "\n",
    "model_3.add(Embedding(10000,N3))\n",
    "model_3.add(LSTM(K3))\n",
    "\n",
    "model_3.add(Dense(1, activation='sigmoid'))\n",
    "\n",
    "model_3.compile(loss='binary_crossentropy',\n",
    "             optimizer='adam',\n",
    "             metrics=['accuracy'])"
   ]
  },
  {
   "cell_type": "code",
   "execution_count": 27,
   "metadata": {},
   "outputs": [
    {
     "name": "stdout",
     "output_type": "stream",
     "text": [
      "_________________________________________________________________\n",
      "Layer (type)                 Output Shape              Param #   \n",
      "=================================================================\n",
      "embedding_4 (Embedding)      (None, None, 8)           80000     \n",
      "_________________________________________________________________\n",
      "lstm_4 (LSTM)                (None, 50)                11800     \n",
      "_________________________________________________________________\n",
      "dense_4 (Dense)              (None, 1)                 51        \n",
      "=================================================================\n",
      "Total params: 91,851\n",
      "Trainable params: 91,851\n",
      "Non-trainable params: 0\n",
      "_________________________________________________________________\n"
     ]
    }
   ],
   "source": [
    "model_3.summary()"
   ]
  },
  {
   "cell_type": "code",
   "execution_count": 28,
   "metadata": {},
   "outputs": [
    {
     "name": "stdout",
     "output_type": "stream",
     "text": [
      "Train on 25000 samples, validate on 25000 samples\n",
      "Epoch 1/5\n",
      "25000/25000 [==============================] - 110s 4ms/step - loss: 0.4394 - acc: 0.7825 - val_loss: 0.3662 - val_acc: 0.8462\n",
      "Epoch 2/5\n",
      "25000/25000 [==============================] - 109s 4ms/step - loss: 0.2571 - acc: 0.9006 - val_loss: 0.3346 - val_acc: 0.8647\n",
      "Epoch 3/5\n",
      "25000/25000 [==============================] - 108s 4ms/step - loss: 0.2053 - acc: 0.9234 - val_loss: 0.3429 - val_acc: 0.8614\n",
      "Epoch 4/5\n",
      "25000/25000 [==============================] - 113s 5ms/step - loss: 0.1724 - acc: 0.9376 - val_loss: 0.3997 - val_acc: 0.8531\n",
      "Epoch 5/5\n",
      "25000/25000 [==============================] - 112s 4ms/step - loss: 0.1455 - acc: 0.9480 - val_loss: 0.3808 - val_acc: 0.8547\n"
     ]
    }
   ],
   "source": [
    "model_3_fit_his = model_3.fit(x_train_maxlen,y_train, batch_size=32, epochs=5, validation_data = (x_test_maxlen, y_test))"
   ]
  },
  {
   "cell_type": "code",
   "execution_count": 29,
   "metadata": {},
   "outputs": [
    {
     "name": "stdout",
     "output_type": "stream",
     "text": [
      "25000/25000 [==============================] - 12s 500us/step\n",
      "\n",
      "\t Accuracy of testing data = 96.8%\n"
     ]
    }
   ],
   "source": [
    "score_3 = model_3.evaluate(x_train_maxlen, y_train)\n",
    "print()\n",
    "print(\"\\t Accuracy of testing data = {:2.1f}%\".format(score_3[1]*100.0))"
   ]
  },
  {
   "cell_type": "code",
   "execution_count": 30,
   "metadata": {},
   "outputs": [
    {
     "data": {
      "image/png": "[encoded data removed]",
      "text/plain": [
       "<Figure size 432x288 with 1 Axes>"
      ]
     },
     "metadata": {
      "needs_background": "light"
     },
     "output_type": "display_data"
    }
   ],
   "source": [
    "plt.plot(model_fit_his.history[\"acc\"])\n",
    "plt.plot(model_1_fit_his.history[\"acc\"])\n",
    "plt.plot(model_2_fit_his.history[\"acc\"])\n",
    "plt.plot(model_3_fit_his.history[\"acc\"])\n",
    "\n",
    "plt.title(\"Model Training Accuracy\")\n",
    "plt.ylabel(\"Accuracy\")\n",
    "plt.xlabel(\"Epoch\")\n",
    "plt.legend([\"N3,K4\",\"N50,K50\",\"N50,K8\",\"N8,K50\"], loc=\"best\")\n",
    "plt.show()"
   ]
  },
  {
   "cell_type": "code",
   "execution_count": null,
   "metadata": {},
   "outputs": [],
   "source": []
  }
 ],
 "metadata": {
  "kernelspec": {
   "display_name": "Python 3",
   "language": "python",
   "name": "python3"
  },
  "language_info": {
   "codemirror_mode": {
    "name": "ipython",
    "version": 3
   },
   "file_extension": ".py",
   "mimetype": "text/x-python",
   "name": "python",
   "nbconvert_exporter": "python",
   "pygments_lexer": "ipython3",
   "version": "3.7.2"
  }
 },
 "nbformat": 4,
 "nbformat_minor": 2
}
